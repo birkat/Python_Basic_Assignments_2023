{
 "cells": [
  {
   "cell_type": "markdown",
   "id": "7b321194",
   "metadata": {},
   "source": [
    "\"\"\"1. What is the primary goal of Object-Oriented Programming (OOP)?\"\"\"\n",
    "\n",
    "Ans:\n",
    "\n",
    "Object Oriented programming is based on classes and object. Its primary goal is to structure the program into a simple, reusable code. The entire program runs on mutiple objects and interacted with objects to perform a large program. In other words its hold entire data into a single object and it would be easy to pass to others methods and objects."
   ]
  },
  {
   "cell_type": "markdown",
   "id": "b4501d38",
   "metadata": {},
   "source": [
    "\"\"\"2. What is an object in Python?\"\"\"\n",
    "\n",
    "Ans:\n",
    "\n",
    "Python is Object-Oriented Programming language. Objects are variables which includes diffrent functions and methods that can be used to manipulted data. Everything in python related to an object like list, variables, tuples, dictionary, sets, function etc."
   ]
  },
  {
   "cell_type": "markdown",
   "id": "604b8bb9",
   "metadata": {},
   "source": [
    "\"\"\"3. What is a class in Python?\"\"\"\n",
    "\n",
    "Ans:\n",
    "\n",
    "A class is a user define blueprint or prototype from which objects are created. In simple words, a class is like an object constructor or a blueprint for creating objects."
   ]
  },
  {
   "cell_type": "markdown",
   "id": "717e4bbb",
   "metadata": {},
   "source": [
    "\"\"\"4. What are attributes and methods in a class?\"\"\"\n",
    "\n",
    "Ans:\n",
    "\n",
    "Attributes are data members inside a class or an object that represent the different features of the class. The function which are associated with the object are called methods."
   ]
  },
  {
   "cell_type": "markdown",
   "id": "921eb358",
   "metadata": {},
   "source": [
    "\"\"\"5. What is the difference between class variables and instance variables in Python?\"\"\"\n",
    "\n",
    "Ans:\n",
    "\n",
    "Class variables are defined within a class and before the class constructor. class variables are shared by all instances of the class.\n",
    "\n",
    "Example:\n",
    "\n",
    "class Person:\n",
    "    person_name = \"Krish\"\n",
    "    \n",
    "person = Person()\n",
    "print(Person.person_name)\n",
    "\n",
    "ouput: \n",
    "Krish\n",
    "\n",
    "Instances variables are declared inside the constructor method of the class. Every object has its own value in an instances variables.\n",
    "\n",
    "Example:\n",
    "\n",
    "class Person:\n",
    "    def __init__(self, name, age):\n",
    "        self.name = name\n",
    "        self.age = age\n",
    "        \n",
    "person1 = Person(\"Krish\", 24)\n",
    "print(person1.name)\n",
    "print(person.age)\n",
    "\n",
    "output:\n",
    "Krish\n",
    "24"
   ]
  },
  {
   "cell_type": "markdown",
   "id": "dc9ad6f8",
   "metadata": {},
   "source": [
    "\"\"\"6. What is the purpose of the self parameter in Python class methods?\"\"\"\n",
    "\n",
    "Ans:\n",
    "\n",
    "By using self we can access attributes and methods of the class. it is a refetences to the current instance of the class. Self is a first argument of any function in the class. Self is not a reserve keyword, inseted of self we can use any other words but it has to be first argument of any function."
   ]
  },
  {
   "cell_type": "code",
   "execution_count": 10,
   "id": "34208844",
   "metadata": {},
   "outputs": [],
   "source": [
    "\"\"\"7. For a library management system, you have to design the \"Book\" class with OOP\n",
    "principles in mind. The “Book” class will have following attributes:\n",
    "a. title: Represents the title of the book.\n",
    "b. author: Represents the author(s) of the book.\n",
    "c. isbn: Represents the ISBN (International Standard Book Number) of the book.\n",
    "d. publication_year: Represents the year of publication of the book.\n",
    "e. available_copies: Represents the number of copies available for checkout.\n",
    "The class will also include the following methods:\n",
    "a. check_out(self): Decrements the available copies by one if there are copies\n",
    "available for checkout.\n",
    "b. return_book(self): Increments the available copies by one when a book is\n",
    "returned.\n",
    "c. display_book_info(self): Displays the information about the book, including its\n",
    "attributes and the number of available copies.\"\"\"\n",
    "\n",
    "\n",
    "class Book:\n",
    "    def __init__(self, title, author, isbn, publication_year, available_copies):\n",
    "        self.title = title\n",
    "        self.author = author\n",
    "        self.isbn = isbn\n",
    "        self.publication_year = publication_year\n",
    "        self.available_copies = available_copies\n",
    "        \n",
    "    def check_out(self, out_book):\n",
    "        if out_book < self.available_copies:\n",
    "            self.available_copies -= out_book\n",
    "            print(f\"{self.title} book is check out\")\n",
    "        else:\n",
    "            print(f\"{out_book} number of books are not avaible\")\n",
    "        \n",
    "    def return_book(self, in_book):\n",
    "        self.available_copies += in_book\n",
    "        print(f\"{self.title} book is check in\")\n",
    "        \n",
    "    def display_book_info(self):\n",
    "        print(\"Displays the information about the book\")"
   ]
  },
  {
   "cell_type": "code",
   "execution_count": 11,
   "id": "74a65401",
   "metadata": {},
   "outputs": [],
   "source": [
    "book = Book(\"DataScience\", \"Krish Naik\", 1234, 2018, 5400)"
   ]
  },
  {
   "cell_type": "code",
   "execution_count": 12,
   "id": "4431bcee",
   "metadata": {},
   "outputs": [
    {
     "name": "stdout",
     "output_type": "stream",
     "text": [
      "DataScience book is check out\n"
     ]
    }
   ],
   "source": [
    "book.check_out(5)"
   ]
  },
  {
   "cell_type": "code",
   "execution_count": 13,
   "id": "606d1121",
   "metadata": {},
   "outputs": [
    {
     "name": "stdout",
     "output_type": "stream",
     "text": [
      "DataScience book is check in\n"
     ]
    }
   ],
   "source": [
    "book.return_book(2)"
   ]
  },
  {
   "cell_type": "code",
   "execution_count": 16,
   "id": "7dae5acc",
   "metadata": {},
   "outputs": [
    {
     "name": "stdout",
     "output_type": "stream",
     "text": [
      "Displays the information about the book\n",
      "{'title': 'DataScience', 'author': 'Krish Naik', 'isbn': 1234, 'publication_year': 2018, 'available_copies': 5397}\n"
     ]
    }
   ],
   "source": [
    "book.display_book_info()\n",
    "print(book.__dict__)"
   ]
  },
  {
   "cell_type": "code",
   "execution_count": 37,
   "id": "e79a0a33",
   "metadata": {},
   "outputs": [],
   "source": [
    "\"\"\"8. For a ticket booking system, you have to design the \"Ticket\" class with OOP\n",
    "principles in mind. The “Ticket” class should have the following attributes:\n",
    "a. ticket_id: Represents the unique identifier for the ticket.\n",
    "b. event_name: Represents the name of the event.\n",
    "c. event_date: Represents the date of the event.\n",
    "d. venue: Represents the venue of the event.\n",
    "e. seat_number: Represents the seat number associated with the ticket.\n",
    "f. price: Represents the price of the ticket.\n",
    "g. is_reserved: Represents the reservation status of the ticket.\n",
    "The class also includes the following methods:\n",
    "a. reserve_ticket(self): Marks the ticket as reserved if it is not already reserved.\n",
    "b. cancel_reservation(self): Cancels the reservation of the ticket if it is already\n",
    "reserved.\n",
    "c. display_ticket_info(self): Displays the information about the ticket, including its\n",
    "attributes and reservation status.\"\"\"\n",
    "\n",
    "class Ticket:\n",
    "    def __init__(self, ticket_id, event_name, event_date, venue, seat_number, price, is_reserved):\n",
    "        self.ticket_id = ticket_id\n",
    "        self.event_name = event_name\n",
    "        self.event_date = event_date\n",
    "        self.venue = venue\n",
    "        self.seat_number = seat_number\n",
    "        self.price = price\n",
    "        self.is_reserved = is_reserved\n",
    "        \n",
    "    def reserve_ticket(self):\n",
    "        if self.is_reserved == True:\n",
    "            print(f\"For ticked ID: {self.ticket_id}, {self.seat_number} number seat is Reserved\")\n",
    "        else:\n",
    "            print(f\"For ticked ID: {self.ticket_id}, {self.seat_number} number seat is 'NOT' Reserved\")\n",
    "            \n",
    "    def cancel_reservation(self):\n",
    "        if self.is_reserved == False:\n",
    "            print(f\"For ticked ID: {self.ticket_id}, {self.seat_number} seats is Canceled\")\n",
    "        else:\n",
    "            print(f\"For ticked ID: {self.ticket_id}, {self.seat_number} number seat is 'NOT' Canceled\")\n",
    "        \n",
    "    def display_ticket_info(self):\n",
    "        print(\"Displays the information about the ticket\")"
   ]
  },
  {
   "cell_type": "code",
   "execution_count": 38,
   "id": "20aa2f27",
   "metadata": {},
   "outputs": [],
   "source": [
    "ticket = Ticket(345, \"FSDS\", \"8-25-2023\", \"Ineuron office\", 24, \"Rs.100\", True)"
   ]
  },
  {
   "cell_type": "code",
   "execution_count": 39,
   "id": "d70defc6",
   "metadata": {},
   "outputs": [
    {
     "name": "stdout",
     "output_type": "stream",
     "text": [
      "For ticked ID: 345, 24 number seat is Reserved\n"
     ]
    }
   ],
   "source": [
    "ticket.reserve_ticket()"
   ]
  },
  {
   "cell_type": "code",
   "execution_count": 40,
   "id": "e8b528ce",
   "metadata": {},
   "outputs": [
    {
     "name": "stdout",
     "output_type": "stream",
     "text": [
      "For ticked ID: 345, 24 number seat is 'NOT' Canceled\n"
     ]
    }
   ],
   "source": [
    "ticket.cancel_reservation()"
   ]
  },
  {
   "cell_type": "code",
   "execution_count": 41,
   "id": "15a38912",
   "metadata": {},
   "outputs": [
    {
     "name": "stdout",
     "output_type": "stream",
     "text": [
      "Displays the information about the ticket\n",
      "ticket_id : 345\n",
      "event_name : FSDS\n",
      "event_date : 8-25-2023\n",
      "venue : Ineuron office\n",
      "seat_number : 24\n",
      "price : Rs.100\n",
      "is_reserved : True\n"
     ]
    }
   ],
   "source": [
    "ticket.display_ticket_info()\n",
    "\n",
    "for k, v in ticket.__dict__.items():\n",
    "    print(k,\":\",v)"
   ]
  },
  {
   "cell_type": "code",
   "execution_count": 50,
   "id": "40ad78ec",
   "metadata": {},
   "outputs": [],
   "source": [
    "\"\"\"9. You are creating a shopping cart for an e-commerce website. Using OOP to model\n",
    "the \"ShoppingCart\" functionality the class should contain following attributes and\n",
    "methods:\n",
    "a. items: Represents the list of items in the shopping cart.\n",
    "The class also includes the following methods:\n",
    "\n",
    "a. add_item(self, item): Adds an item to the shopping cart by appending it to the\n",
    "list of items.\n",
    "b. remove_item(self, item): Removes an item from the shopping cart if it exists in\n",
    "the list.\n",
    "c. view_cart(self): Displays the items currently present in the shopping cart.\n",
    "d. clear_cart(self): Clears all items from the shopping cart by reassigning an\n",
    "empty list to the items attribute.\"\"\"\n",
    "\n",
    "class ShoppingCart:\n",
    "    def __init__(self, items):\n",
    "        self.items = items\n",
    "        \n",
    "    def add_item(self, item):\n",
    "        self.items.append(item)\n",
    "        \n",
    "    def remove_item(self, item):\n",
    "        if item in self.items:\n",
    "            self.items.remove(item)\n",
    "        else:\n",
    "            print(f\"{item} not exists\")\n",
    "            \n",
    "    def view_cart(self):\n",
    "        print(self.items)\n",
    "            \n",
    "    def clear_cart(self):\n",
    "        self.items = []\n",
    "        print(\"No item lefts in cart\")\n",
    "        "
   ]
  },
  {
   "cell_type": "code",
   "execution_count": 51,
   "id": "72e9a7b3",
   "metadata": {},
   "outputs": [],
   "source": [
    "cart = ShoppingCart([\"Milk\", \"Tea\", \"Soap\", \"Oil\", \"Sugar\", \"ToothPaste\"])"
   ]
  },
  {
   "cell_type": "code",
   "execution_count": 52,
   "id": "3a1f6e71",
   "metadata": {},
   "outputs": [],
   "source": [
    "cart.add_item(\"FaceWash\")"
   ]
  },
  {
   "cell_type": "code",
   "execution_count": 53,
   "id": "593e8175",
   "metadata": {},
   "outputs": [
    {
     "name": "stdout",
     "output_type": "stream",
     "text": [
      "['Milk', 'Tea', 'Soap', 'Oil', 'Sugar', 'ToothPaste', 'FaceWash']\n"
     ]
    }
   ],
   "source": [
    "cart.view_cart()"
   ]
  },
  {
   "cell_type": "code",
   "execution_count": 54,
   "id": "56b0b1f5",
   "metadata": {},
   "outputs": [],
   "source": [
    "cart.remove_item(\"Milk\")"
   ]
  },
  {
   "cell_type": "code",
   "execution_count": 55,
   "id": "aec4bd11",
   "metadata": {},
   "outputs": [
    {
     "name": "stdout",
     "output_type": "stream",
     "text": [
      "['Tea', 'Soap', 'Oil', 'Sugar', 'ToothPaste', 'FaceWash']\n"
     ]
    }
   ],
   "source": [
    "cart.view_cart()"
   ]
  },
  {
   "cell_type": "code",
   "execution_count": 56,
   "id": "49d8c64f",
   "metadata": {},
   "outputs": [
    {
     "name": "stdout",
     "output_type": "stream",
     "text": [
      "No item lefts in cart\n"
     ]
    }
   ],
   "source": [
    "cart.clear_cart()"
   ]
  },
  {
   "cell_type": "code",
   "execution_count": 57,
   "id": "2afb30b7",
   "metadata": {},
   "outputs": [
    {
     "name": "stdout",
     "output_type": "stream",
     "text": [
      "[]\n"
     ]
    }
   ],
   "source": [
    "cart.view_cart()"
   ]
  },
  {
   "cell_type": "code",
   "execution_count": 70,
   "id": "1d04ef60",
   "metadata": {},
   "outputs": [],
   "source": [
    "\"\"\"10. Imagine a school management system. You have to design the \"Student\" class using\n",
    "OOP concepts.The “Student” class has the following attributes:\n",
    "a. name: Represents the name of the student.\n",
    "b. age: Represents the age of the student.\n",
    "c. grade: Represents the grade or class of the student.\n",
    "d. student_id: Represents the unique identifier for the student.\n",
    "e. attendance: Represents the attendance record of the student.\n",
    "The class should also include the following methods:\n",
    "a. update_attendance(self, date, status): Updates the attendance record of the\n",
    "student for a given date with the provided status (e.g., present or absent).\n",
    "b. get_attendance(self): Returns the attendance record of the student.\n",
    "c. get_average_attendance(self): Calculates and returns the average\n",
    "attendance percentage of the student based on their attendance record.\"\"\"\n",
    "\n",
    "import uuid\n",
    "\n",
    "class Student:\n",
    "    def __init__(self, name, age, grade, student_id, attendance):\n",
    "        self.name = name\n",
    "        self.age = age\n",
    "        self.grade = grade\n",
    "        self.student_id = student_id\n",
    "        self.attendance = attendance\n",
    "        \n",
    "    def update_attendance(self, date, status):\n",
    "        print(f\"On Date: {date} Student Name: {self.name} is {status}\")\n",
    "        \n",
    "    def get_attendance(self):\n",
    "        print(f\"Attendance record of the student Name: {self.name} is {self.attendance} days\")\n",
    "        \n",
    "    def get_average_attendance(self):\n",
    "        percentage = (self.attendance / 365) * 100\n",
    "        print(f\"Average attendance percentage: {round(percentage,2)} %\")"
   ]
  },
  {
   "cell_type": "code",
   "execution_count": 71,
   "id": "1d74cac7",
   "metadata": {},
   "outputs": [],
   "source": [
    "student = Student(\"Suman\", 16, 8, 123, 184)"
   ]
  },
  {
   "cell_type": "code",
   "execution_count": 72,
   "id": "3ddf4027",
   "metadata": {},
   "outputs": [
    {
     "name": "stdout",
     "output_type": "stream",
     "text": [
      "On Date: 25-08-2023 Student Name: Suman is Absent\n"
     ]
    }
   ],
   "source": [
    "student.update_attendance(\"25-08-2023\", \"Absent\")"
   ]
  },
  {
   "cell_type": "code",
   "execution_count": 73,
   "id": "65e07e46",
   "metadata": {},
   "outputs": [
    {
     "name": "stdout",
     "output_type": "stream",
     "text": [
      "Attendance record of the student Name: Suman is 184 days\n"
     ]
    }
   ],
   "source": [
    "student.get_attendance()"
   ]
  },
  {
   "cell_type": "code",
   "execution_count": 74,
   "id": "9d6d3b4f",
   "metadata": {},
   "outputs": [
    {
     "name": "stdout",
     "output_type": "stream",
     "text": [
      "Average attendance percentage: 50.41 %\n"
     ]
    }
   ],
   "source": [
    "student.get_average_attendance()"
   ]
  },
  {
   "cell_type": "code",
   "execution_count": null,
   "id": "9b5cfcfa",
   "metadata": {},
   "outputs": [],
   "source": []
  }
 ],
 "metadata": {
  "kernelspec": {
   "display_name": "Python 3 (ipykernel)",
   "language": "python",
   "name": "python3"
  },
  "language_info": {
   "codemirror_mode": {
    "name": "ipython",
    "version": 3
   },
   "file_extension": ".py",
   "mimetype": "text/x-python",
   "name": "python",
   "nbconvert_exporter": "python",
   "pygments_lexer": "ipython3",
   "version": "3.10.9"
  }
 },
 "nbformat": 4,
 "nbformat_minor": 5
}
