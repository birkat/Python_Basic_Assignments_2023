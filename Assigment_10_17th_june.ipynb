{
 "cells": [
  {
   "cell_type": "markdown",
   "id": "1e53572f",
   "metadata": {},
   "source": [
    "1. What is the role of try and exception block?\n",
    "\n",
    "Ans:\n",
    "\n",
    "try: try contains blocks of code which might raise a exception or may throw a error.\n",
    "\n",
    "exception: except contain a code which executed the exception if try block got an error or exception raise an error if try block codes not work well. If exception raise in try block then except block will be executed."
   ]
  },
  {
   "cell_type": "code",
   "execution_count": null,
   "id": "a276c59b",
   "metadata": {},
   "outputs": [],
   "source": [
    "#2. What is the syntax for a basic try-except block?\n",
    "\n",
    "#Ans:\n",
    "\n",
    "try:\n",
    "    statements\n",
    "except:\n",
    "    statements"
   ]
  },
  {
   "cell_type": "code",
   "execution_count": 2,
   "id": "9bf88bb7",
   "metadata": {},
   "outputs": [
    {
     "name": "stdout",
     "output_type": "stream",
     "text": [
      "Enter Integer: ineuron\n",
      "Please enter Integer\n"
     ]
    }
   ],
   "source": [
    "#Example\n",
    "\n",
    "try:\n",
    "    a = int(input(\"Enter Integer: \"))\n",
    "    print(a)\n",
    "except ValueError:\n",
    "    print(\"Please enter Integer\")"
   ]
  },
  {
   "cell_type": "markdown",
   "id": "84ca5ca0",
   "metadata": {},
   "source": [
    "3.What happens if an exception occurs inside a try block and there is no matching except block?\n",
    "\n",
    "Ans:\n",
    "\n",
    "If an exception occurs inside a try block and there is no matching except block then it will pass error to the outer try statement and it will throw the actual error name. As we can see in this example:"
   ]
  },
  {
   "cell_type": "code",
   "execution_count": 3,
   "id": "32b7954c",
   "metadata": {},
   "outputs": [
    {
     "name": "stdout",
     "output_type": "stream",
     "text": [
      "Enter Integer: dafssd\n"
     ]
    },
    {
     "ename": "ValueError",
     "evalue": "invalid literal for int() with base 10: 'dafssd'",
     "output_type": "error",
     "traceback": [
      "\u001b[1;31m---------------------------------------------------------------------------\u001b[0m",
      "\u001b[1;31mValueError\u001b[0m                                Traceback (most recent call last)",
      "Cell \u001b[1;32mIn[3], line 2\u001b[0m\n\u001b[0;32m      1\u001b[0m \u001b[38;5;28;01mtry\u001b[39;00m:\n\u001b[1;32m----> 2\u001b[0m     a \u001b[38;5;241m=\u001b[39m \u001b[38;5;28;43mint\u001b[39;49m\u001b[43m(\u001b[49m\u001b[38;5;28;43minput\u001b[39;49m\u001b[43m(\u001b[49m\u001b[38;5;124;43m\"\u001b[39;49m\u001b[38;5;124;43mEnter Integer: \u001b[39;49m\u001b[38;5;124;43m\"\u001b[39;49m\u001b[43m)\u001b[49m\u001b[43m)\u001b[49m\n\u001b[0;32m      3\u001b[0m     \u001b[38;5;28mprint\u001b[39m(a)\n\u001b[0;32m      4\u001b[0m \u001b[38;5;28;01mexcept\u001b[39;00m \u001b[38;5;167;01mFileNotFoundError\u001b[39;00m:\n",
      "\u001b[1;31mValueError\u001b[0m: invalid literal for int() with base 10: 'dafssd'"
     ]
    }
   ],
   "source": [
    "try:\n",
    "    a = int(input(\"Enter Integer: \"))\n",
    "    print(a)\n",
    "except FileNotFoundError:\n",
    "    print(\"Please enter Integer\")"
   ]
  },
  {
   "cell_type": "markdown",
   "id": "7269a8e9",
   "metadata": {},
   "source": [
    "4. What is the difference between using a bare except block and specifying a specific exception type?\n",
    "\n",
    "Ans:\n",
    "\n",
    "Using bare except block with Exception class, Exception will caught any type of error if we miss some specific type of exception. If we use Exception class then our program will run smoothly without any interruptions.\n",
    "\n",
    "If we use specific exception type and if we miss some exception then program will be interrupted. Because we dont know what type of data a end user will input and also it is not possible to specify all exception in program. So program may get interrupted."
   ]
  },
  {
   "cell_type": "code",
   "execution_count": 8,
   "id": "a323dd56",
   "metadata": {},
   "outputs": [
    {
     "name": "stdout",
     "output_type": "stream",
     "text": [
      "here we have use r instead of w:  [Errno 2] No such file or directory: 'test.txt'\n",
      "\n",
      "Program 2\n",
      "1\n",
      "2\n",
      "3\n",
      "4\n",
      "5\n"
     ]
    }
   ],
   "source": [
    "#5. Can you have nested try-except blocks in Python? If yes, then give an example.\n",
    "\n",
    "#Example\n",
    "try:\n",
    "    f = open(\"test.txt\", \"r\") # here we have use r instead of w\n",
    "    f.write(\"this is my code with exception handling\")\n",
    "    print(\"this is my code after write ops\")\n",
    "except Exception as e:\n",
    "    print(\"here we have use r instead of w: \", e)\n",
    "try:\n",
    "    print()\n",
    "    print(\"Program 2\")\n",
    "    l = [1,2,3,4,5]\n",
    "    for i in l:\n",
    "        print(i)\n",
    "except:\n",
    "    print(\"this is a handler for loop\")"
   ]
  },
  {
   "cell_type": "code",
   "execution_count": 9,
   "id": "8bfb47d9",
   "metadata": {},
   "outputs": [
    {
     "name": "stdout",
     "output_type": "stream",
     "text": [
      "Enter Integer1: 2\n",
      "Enter Integer2: 0\n",
      "2 0\n",
      "Please don't enter zero\n"
     ]
    }
   ],
   "source": [
    "# 6. Can we use multiple exception blocks, if yes then give an example.\n",
    "\n",
    "# Example:\n",
    "\n",
    "try:\n",
    "    a = int(input(\"Enter Integer1: \"))\n",
    "    b = int(input(\"Enter Integer2: \"))\n",
    "    print(a, b)\n",
    "    result = a/b\n",
    "    print(result)\n",
    "    \n",
    "except ValueError:\n",
    "    print(\"Please enter Integer\")\n",
    "except ZeroDivisionError:\n",
    "    print(\"Please don't enter zero\")"
   ]
  },
  {
   "cell_type": "markdown",
   "id": "b37c98d9",
   "metadata": {},
   "source": [
    "7. Write the reason due to which following errors are raised:\n",
    "\n",
    "a. EOFError: End of line Error executed when a end user will not give any input or print function print data with no data given. This error is sometime experienced while using online IDEs."
   ]
  },
  {
   "cell_type": "code",
   "execution_count": 16,
   "id": "f22e0cef",
   "metadata": {},
   "outputs": [],
   "source": [
    "# Example of EOFError\n",
    "\n",
    "try:\n",
    "    num = int(input())\n",
    "    print(num * 10)\n",
    "except EOFError:\n",
    "     print(\"no data provided to input function\") # this error occurs in online IDEs"
   ]
  },
  {
   "cell_type": "markdown",
   "id": "568d2d69",
   "metadata": {},
   "source": [
    "b. FloatingPointError: Raised when a floating point operation fails. an error that occurs when a floating-point calculation is attempted that is not supported by the available hardware or software."
   ]
  },
  {
   "cell_type": "code",
   "execution_count": 18,
   "id": "c18be86e",
   "metadata": {},
   "outputs": [
    {
     "data": {
      "text/plain": [
       "0.19999999999999996"
      ]
     },
     "execution_count": 18,
     "metadata": {},
     "output_type": "execute_result"
    }
   ],
   "source": [
    "# Example of FloatingPointError\n",
    "1.2 - 1.0"
   ]
  },
  {
   "cell_type": "markdown",
   "id": "45439165",
   "metadata": {},
   "source": [
    "c. IndexError: Its occurs when index is out of range"
   ]
  },
  {
   "cell_type": "code",
   "execution_count": 19,
   "id": "095968b9",
   "metadata": {},
   "outputs": [
    {
     "name": "stdout",
     "output_type": "stream",
     "text": [
      "index out of range\n"
     ]
    }
   ],
   "source": [
    "# Example of IndexError\n",
    "\n",
    "try:\n",
    "    l = [34,56,1,7,8]\n",
    "    print(l[6])\n",
    "except IndexError:\n",
    "    print(\"index out of range\")"
   ]
  },
  {
   "cell_type": "markdown",
   "id": "b0e977c9",
   "metadata": {},
   "source": [
    "d. MemoryError: It raise when operations memory runs out of range."
   ]
  },
  {
   "cell_type": "code",
   "execution_count": 22,
   "id": "bbb61793",
   "metadata": {},
   "outputs": [
    {
     "name": "stdout",
     "output_type": "stream",
     "text": [
      "memory runs out of range.\n"
     ]
    }
   ],
   "source": [
    "# Example of MemoryError\n",
    "try:\n",
    "    large_list = [1] * (10 ** 12)\n",
    "except MemoryError:\n",
    "    print(\"memory runs out of range.\")"
   ]
  },
  {
   "cell_type": "markdown",
   "id": "316192ae",
   "metadata": {},
   "source": [
    "e. OverflowError: When any operations or arithmetic operation are storing any value above the limit or too large to expressed by the noraml number format.\n"
   ]
  },
  {
   "cell_type": "code",
   "execution_count": 24,
   "id": "86bc21f0",
   "metadata": {},
   "outputs": [
    {
     "name": "stdout",
     "output_type": "stream",
     "text": [
      "282429536481000000000000000000000000000000000000\n"
     ]
    }
   ],
   "source": [
    "# Example of OverflowError\n",
    "\n",
    "try:\n",
    "    resul = 9000 ** 12\n",
    "except OverflowError:\n",
    "    print(\"Over flow or above the limit\")\n",
    "else:\n",
    "    print(resul)\n",
    "    "
   ]
  },
  {
   "cell_type": "markdown",
   "id": "3692cd75",
   "metadata": {},
   "source": [
    "f. TabError: Raised when indentation contains mixed tabs and spaces."
   ]
  },
  {
   "cell_type": "markdown",
   "id": "9834a98f",
   "metadata": {},
   "source": [
    "g. ValueError: Raised when wrong value is assigned to the variable."
   ]
  },
  {
   "cell_type": "code",
   "execution_count": 26,
   "id": "b2dee030",
   "metadata": {},
   "outputs": [
    {
     "name": "stdout",
     "output_type": "stream",
     "text": [
      "Enter Integer: ineuron\n",
      "Please enter Integer\n"
     ]
    }
   ],
   "source": [
    "# Example of ValueError\n",
    "try:\n",
    "    a = int(input(\"Enter Integer: \"))\n",
    "    print(a)\n",
    "except ValueError:\n",
    "    print(\"Please enter Integer\")"
   ]
  },
  {
   "cell_type": "markdown",
   "id": "2c9e1b6b",
   "metadata": {},
   "source": [
    "8. Write code for the following given scenario and add try-exception block to it.\n"
   ]
  },
  {
   "cell_type": "code",
   "execution_count": 27,
   "id": "bd2d2c5c",
   "metadata": {},
   "outputs": [
    {
     "name": "stdout",
     "output_type": "stream",
     "text": [
      "Enter number n1: 4\n",
      "Enter number n2: 2\n",
      "2.0\n"
     ]
    }
   ],
   "source": [
    "# a. Program to divide two numbers\n",
    "\n",
    "try:\n",
    "    n1 = int(input(\"Enter number n1: \"))\n",
    "    n2 = int(input(\"Enter number n2: \"))\n",
    "    div = n1 / n2\n",
    "except ValueError:\n",
    "    print(\"Please enter integer\")\n",
    "except ZeroDivisionError:\n",
    "    print(\"Please dont enter zero\")\n",
    "else:\n",
    "    print(div)"
   ]
  },
  {
   "cell_type": "code",
   "execution_count": 31,
   "id": "85abd4bd",
   "metadata": {},
   "outputs": [
    {
     "name": "stdout",
     "output_type": "stream",
     "text": [
      "Enter: 2343\n",
      "2343\n"
     ]
    }
   ],
   "source": [
    "# b. Program to convert a string to an integer\n",
    "\n",
    "try:\n",
    "    st = input(\"Enter: \")\n",
    "except ValueError:\n",
    "    print(\"Please enter string\")\n",
    "else:\n",
    "    try:\n",
    "        print(int(st))\n",
    "    except ValueError:\n",
    "        print(\"Enter integer to conver sting number into integer\")"
   ]
  },
  {
   "cell_type": "code",
   "execution_count": 32,
   "id": "dcecb962",
   "metadata": {},
   "outputs": [
    {
     "name": "stdout",
     "output_type": "stream",
     "text": [
      "9\n"
     ]
    }
   ],
   "source": [
    "# c. Program to access an element in a list\n",
    "\n",
    "try:\n",
    "    l1 = [12,32,9,45,78]\n",
    "    print(l1[2])\n",
    "except IndexError:\n",
    "    print(\"Index out of range\")"
   ]
  },
  {
   "cell_type": "code",
   "execution_count": 33,
   "id": "64d64836",
   "metadata": {},
   "outputs": [
    {
     "name": "stdout",
     "output_type": "stream",
     "text": [
      "Raised a File not Found Error\n"
     ]
    }
   ],
   "source": [
    "# d. Program to handle a specific exception\n",
    "\n",
    "try:\n",
    "    f = open(\"test67.txt\", 'r')\n",
    "    f.write(\"Hello Ineuron\")\n",
    "except FileNotFoundError:\n",
    "    print(\"Raised a File not Found Error\")"
   ]
  },
  {
   "cell_type": "code",
   "execution_count": 36,
   "id": "9c02a64c",
   "metadata": {},
   "outputs": [
    {
     "name": "stdout",
     "output_type": "stream",
     "text": [
      "Raised a File not Found Error:  [Errno 2] No such file or directory: 'test67.txt'\n",
      "Enter Integer: ineuron\n",
      "Please enter Integer:  invalid literal for int() with base 10: 'ineuron'\n"
     ]
    }
   ],
   "source": [
    "# e. Program to handle any exception\n",
    "\n",
    "try:\n",
    "    f = open(\"test67.txt\", 'r')\n",
    "    f.write(\"Hello Ineuron\")\n",
    "\n",
    "except Exception as e:\n",
    "    print(\"Raised a File not Found Error: \", e)\n",
    "    \n",
    "try:\n",
    "    a = int(input(\"Enter Integer: \"))\n",
    "    print(a)\n",
    "except Exception as e:\n",
    "    print(\"Please enter Integer: \", e)\n",
    "    "
   ]
  },
  {
   "cell_type": "code",
   "execution_count": null,
   "id": "53828e6e",
   "metadata": {},
   "outputs": [],
   "source": []
  }
 ],
 "metadata": {
  "kernelspec": {
   "display_name": "Python 3 (ipykernel)",
   "language": "python",
   "name": "python3"
  },
  "language_info": {
   "codemirror_mode": {
    "name": "ipython",
    "version": 3
   },
   "file_extension": ".py",
   "mimetype": "text/x-python",
   "name": "python",
   "nbconvert_exporter": "python",
   "pygments_lexer": "ipython3",
   "version": "3.10.9"
  }
 },
 "nbformat": 4,
 "nbformat_minor": 5
}
