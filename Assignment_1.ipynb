{
 "cells": [
  {
   "cell_type": "markdown",
   "id": "704eae94",
   "metadata": {},
   "source": [
    "\"\"\"1. In the below elements which of them are values or an expression? eg:- values can be\n",
    "integer or string and expressions will be mathematical operators.\n",
    "*\n",
    "'hello'\n",
    "-87.8\n",
    "-\n",
    "/\n",
    "+\n",
    "6\n",
    "\"\"\"\n",
    "\n",
    "Ans: \n",
    "\n",
    "# * is mathematical operators\n",
    "\n",
    "# 'hello' is string\n",
    "\n",
    "# -87.8 is integer\n",
    "\n",
    "# - is mathematical operators\n",
    "\n",
    "# / is mathematical operators\n",
    "\n",
    "# + is mathematical operators\n",
    "\n",
    "# 6 is integer"
   ]
  },
  {
   "cell_type": "markdown",
   "id": "3e171176",
   "metadata": {},
   "source": [
    "\"\"\"2. What is the difference between string and variable?\"\"\"\n",
    "\n",
    "Ans:\n",
    "\n",
    "String is a sequence of character data and enclosed with quotes, e.g \"ineuron\"\n",
    "\n",
    "variable used to store data e.g a = \"ineuron"
   ]
  },
  {
   "cell_type": "markdown",
   "id": "5a721f79",
   "metadata": {},
   "source": [
    "\"\"\"3. Describe three different data types.\"\"\"\n",
    "\n",
    "Ans:\n",
    "\n",
    "integers: is a whole number, they may be negative or positive. \n",
    "\n",
    "e.g \n",
    "\n",
    "    x = 4\n",
    "    y = -3\n",
    "    \n",
    "float: is a real number, number is in decimal form. They may be negative or positive. \n",
    "\n",
    "e.g \n",
    "\n",
    "    a = 3.45\n",
    "    b = 9.0\n",
    "    \n",
    "string: is a sequence of character, character are represents in quotes,\n",
    "\n",
    "e.g\n",
    "\n",
    "    str = \"ineuron\"\n",
    "    \n",
    "We can use type function (type()) to find out the variable type\n",
    "\n",
    "e.g.\n",
    "\n",
    "    type(x) -> int"
   ]
  },
  {
   "cell_type": "markdown",
   "id": "7c5a01d9",
   "metadata": {},
   "source": [
    "\"\"\"4. What is an expression made up of? What do all expressions do?\"\"\"\n",
    "\n",
    "Ans:\n",
    "\n",
    "expression is made up with operants and operators, with combition of both a result is produce\n",
    "\n",
    "e.g\n",
    "\n",
    "    a = 1+2\n",
    "       result = 3"
   ]
  },
  {
   "cell_type": "markdown",
   "id": "01933fe7",
   "metadata": {},
   "source": [
    "\"\"\"5. This assignment statements, like spam = 10. What is the difference between an expression and a statement?\"\"\"\n",
    "\n",
    "Ans:\n",
    "\n",
    "spam = 10 is a statement bcoz it perform action and the result will be expression\n",
    "\n",
    "expression is a code, which produce values\n",
    "\n",
    "statement is a piece of code which perform action or process value "
   ]
  },
  {
   "cell_type": "markdown",
   "id": "2afdbe8c",
   "metadata": {},
   "source": [
    "\"\"\"6. After running the following code, what does the variable bacon contain?\n",
    "\n",
    "bacon = 22\n",
    "\n",
    "bacon + 1\"\"\"\n",
    "\n",
    "Ans:\n",
    "\n",
    "The answer is 23 bcoz bacon is a variable which stores value in it, so bacon is now 22 and plus 1 will be 23\n"
   ]
  },
  {
   "cell_type": "markdown",
   "id": "0a7ed67e",
   "metadata": {},
   "source": [
    "\"\"\"7. What should the values of the following two terms be?\n",
    "\n",
    "'spam' + 'spamspam'\n",
    "\n",
    "'spam' * 3\"\"\"\n",
    "\n",
    "Ans:\n",
    "\n",
    "'spam' + 'spamspam'\n",
    "\n",
    " The result will be spamspamspam bcoz they both are in quotes and quotes means string it is also called concatenation, here\n",
    " '+' character is used to add two string.\n",
    " \n",
    "'spam' * 3\n",
    " \n",
    "The result will be spamspamspam bcoz first value is string and second is number, and here '*' charater is used, with numbers * will be used as mutiple or perform its job as mutiplcation."
   ]
  },
  {
   "cell_type": "markdown",
   "id": "79c16429",
   "metadata": {},
   "source": [
    "\"\"\"8. Why is eggs a valid variable name while 100 is invalid?\"\"\"\n",
    "\n",
    "Ans:\n",
    "\n",
    "variable should be unique, it should not match with key words or reverse words, not stast with numbers there are some rules variable have to follow...here eggs is a valid variable because its unique and doesnot start with with digits or number.\n",
    "100 is invalid bocz it stat with numbers"
   ]
  },
  {
   "cell_type": "markdown",
   "id": "2b21fddf",
   "metadata": {},
   "source": [
    "\"\"\"9. What three functions can be used to get the integer, floating-point number, or string\n",
    "version of a value?\"\"\"\n",
    "\n",
    "Ans:\n",
    "\n",
    "int()\n",
    "\n",
    "float()\n",
    "\n",
    "str()"
   ]
  },
  {
   "cell_type": "code",
   "execution_count": 1,
   "id": "ff6d28b3",
   "metadata": {},
   "outputs": [
    {
     "data": {
      "text/plain": [
       "'I have eaten 99 burritos.'"
      ]
     },
     "execution_count": 1,
     "metadata": {},
     "output_type": "execute_result"
    }
   ],
   "source": [
    "\"\"\"10. Why does this expression cause an error? How can you fix it?\n",
    "'I have eaten' + 99 + 'burritos.' \"\"\"\n",
    "\n",
    "# here 99 is a integer value and else two value is string. so to fix it: we can put quotes on 99 it will be string now\n",
    "\n",
    "'I have eaten' + ' 99 ' + 'burritos.'"
   ]
  },
  {
   "cell_type": "code",
   "execution_count": null,
   "id": "2029be69",
   "metadata": {},
   "outputs": [],
   "source": []
  }
 ],
 "metadata": {
  "kernelspec": {
   "display_name": "Python 3 (ipykernel)",
   "language": "python",
   "name": "python3"
  },
  "language_info": {
   "codemirror_mode": {
    "name": "ipython",
    "version": 3
   },
   "file_extension": ".py",
   "mimetype": "text/x-python",
   "name": "python",
   "nbconvert_exporter": "python",
   "pygments_lexer": "ipython3",
   "version": "3.10.9"
  }
 },
 "nbformat": 4,
 "nbformat_minor": 5
}
