{
 "cells": [
  {
   "cell_type": "code",
   "execution_count": null,
   "id": "833ef0f0",
   "metadata": {},
   "outputs": [],
   "source": [
    "\"\"\"1. Why are functions advantageous to have in your programs?\"\"\"\n",
    "\n",
    "\"\"\"Ans:\n",
    "\n",
    "-Reuse of code\n",
    "-Less coding \n",
    "-Write clear code\n",
    "-Big code of line will be broke in small functions\n",
    "\"\"\""
   ]
  },
  {
   "cell_type": "code",
   "execution_count": null,
   "id": "f8c72667",
   "metadata": {},
   "outputs": [],
   "source": [
    "\"\"\"2. When does the code in a function run: when it's specified or when it's called?\"\"\"\n",
    "\n",
    "# When it's called"
   ]
  },
  {
   "cell_type": "code",
   "execution_count": null,
   "id": "0f057c16",
   "metadata": {},
   "outputs": [],
   "source": [
    "\"\"\"3. What statement creates a function?\"\"\"\n",
    "\n",
    "# def statement creates a function"
   ]
  },
  {
   "cell_type": "code",
   "execution_count": null,
   "id": "ca4c04d9",
   "metadata": {},
   "outputs": [],
   "source": [
    "\"\"\"4. What is the difference between a function and a function call?\"\"\"\n",
    "\n",
    "# A function are created with the def keywords and with function name (any) and followed by parenthesis and colon(:).\n",
    "# Function takes parameter, parameter means value function takes as input. After that indentation is given to write\n",
    "# a code or statements.\n",
    "\n",
    "# A function call: After defining a function, a fuction is called with function name, parentthesis and colon(:)\n",
    "# if function takes parameter then we can supply in parenthesis."
   ]
  },
  {
   "cell_type": "code",
   "execution_count": null,
   "id": "f5b429a9",
   "metadata": {},
   "outputs": [],
   "source": [
    "\"\"\"5. How many global scopes are there in a Python program? How many local scopes?\"\"\"\n",
    "\n",
    "# there is one global scope and local scopes is created whenever function is called"
   ]
  },
  {
   "cell_type": "code",
   "execution_count": null,
   "id": "08bad30f",
   "metadata": {},
   "outputs": [],
   "source": [
    "\"\"\"6. What happens to variables in a local scope when the function call returns?\"\"\"\n",
    "\n",
    "# local variables disappears after function call returns"
   ]
  },
  {
   "cell_type": "code",
   "execution_count": null,
   "id": "acf9f35d",
   "metadata": {},
   "outputs": [],
   "source": [
    "\"\"\"7. What is the concept of a return value? Is it possible to have a return value in an expression?\"\"\"\n",
    "\n",
    "# return value is used in inside the function. The concept of a return value is to return a result(output) to a \n",
    "# calling function. return keyword is followed by an expression, if the return statement is without \n",
    "# a expression then a value None will be return.\n",
    "# return value is followed by an expression."
   ]
  },
  {
   "cell_type": "code",
   "execution_count": null,
   "id": "5878c307",
   "metadata": {},
   "outputs": [],
   "source": [
    "\"\"\"8. If a function does not have a return statement, what is the return value of a call to that function?\"\"\"\n",
    "\n",
    "# A keyword called None type"
   ]
  },
  {
   "cell_type": "code",
   "execution_count": null,
   "id": "68d489d8",
   "metadata": {},
   "outputs": [],
   "source": [
    "\"\"\"9. How do you make a function variable refer to the global variable?\"\"\"\n",
    "\n",
    "# global variable can be use any part of the program, to define global variable we can use before function or use \n",
    "# global keyword.\n",
    "\n",
    "# x = 10 (outside the function)\n",
    "# global x "
   ]
  },
  {
   "cell_type": "code",
   "execution_count": null,
   "id": "dc15ba7e",
   "metadata": {},
   "outputs": [],
   "source": [
    "\"\"\"10. What is the data type of None?\"\"\"\n",
    "\n",
    "# The data type of None is None Type."
   ]
  },
  {
   "cell_type": "code",
   "execution_count": null,
   "id": "a262f6ea",
   "metadata": {},
   "outputs": [],
   "source": [
    "\"\"\"11. What does the sentence import areallyourpetsnamederic do?\"\"\"\n",
    "\n",
    "# imports module name areallyourpetsnamederic "
   ]
  },
  {
   "cell_type": "code",
   "execution_count": null,
   "id": "08e90b0e",
   "metadata": {},
   "outputs": [],
   "source": [
    "\"\"\"12. If you had a bacon() feature in a spam module, what would you call it after importing spam?\"\"\"\n",
    "\n",
    "# This function is called as spam.bacon()"
   ]
  },
  {
   "cell_type": "code",
   "execution_count": null,
   "id": "2b8d4fa4",
   "metadata": {},
   "outputs": [],
   "source": [
    "\"\"\"13. What can you do to save a programme from crashing if it encounters an error?\"\"\"\n",
    "\n",
    "# we can use \"try\" clause if errors encounters"
   ]
  },
  {
   "cell_type": "code",
   "execution_count": null,
   "id": "01df97ef",
   "metadata": {},
   "outputs": [],
   "source": [
    "\"\"\"14. What is the purpose of the try clause? What is the purpose of the except clause?\"\"\"\n",
    "\n",
    "# The code which may cause error goes to try clause and the code which executes error goes to except clause."
   ]
  }
 ],
 "metadata": {
  "kernelspec": {
   "display_name": "Python 3 (ipykernel)",
   "language": "python",
   "name": "python3"
  },
  "language_info": {
   "codemirror_mode": {
    "name": "ipython",
    "version": 3
   },
   "file_extension": ".py",
   "mimetype": "text/x-python",
   "name": "python",
   "nbconvert_exporter": "python",
   "pygments_lexer": "ipython3",
   "version": "3.10.9"
  }
 },
 "nbformat": 4,
 "nbformat_minor": 5
}
