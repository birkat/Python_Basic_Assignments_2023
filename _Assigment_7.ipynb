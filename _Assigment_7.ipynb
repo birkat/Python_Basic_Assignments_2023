{
 "cells": [
  {
   "cell_type": "markdown",
   "id": "94ff8ce2",
   "metadata": {},
   "source": [
    "Q.1. Create two int type variables, apply addition, subtraction, division and multiplications\n",
    "and store the results in variables. Then print the data in the following format by calling the\n",
    "variables:\n",
    "\n",
    "First variable is __ & second variable is __.\n",
    "\n",
    "Addition: __ + __ = __\n",
    "\n",
    "Subtraction: __ - __ = __\n",
    "\n",
    "Multiplication: __ * __ = __\n",
    "\n",
    "Division: __ / __ = __"
   ]
  },
  {
   "cell_type": "code",
   "execution_count": 6,
   "id": "c323b7d2",
   "metadata": {},
   "outputs": [
    {
     "name": "stdout",
     "output_type": "stream",
     "text": [
      "Enter number n1: 20\n",
      "Enter number n2: 10\n",
      "First variable is 20 & second variable is 10\n",
      "Addition 20 + 10 = 30 \n",
      "Subtraction 20 - 10 = 10 \n",
      "Multiplication 20 * 10 = 200 \n",
      "Division 20 / 10 = 2.0 \n"
     ]
    }
   ],
   "source": [
    "n1 = int(input(\"Enter number n1: \"))\n",
    "n2 = int(input(\"Enter number n2: \"))\n",
    "\n",
    "print(f\"First variable is {n1} & second variable is {n2}\")\n",
    "\n",
    "print(f\"Addition {n1} + {n2} = {n1+n2} \")\n",
    "print(f\"Subtraction {n1} - {n2} = {n1-n2} \")\n",
    "print(f\"Multiplication {n1} * {n2} = {n1*n2} \")\n",
    "print(f\"Division {n1} / {n2} = {n1/n2} \")"
   ]
  },
  {
   "cell_type": "markdown",
   "id": "4b947c2d",
   "metadata": {},
   "source": [
    "Q.2. What is the difference between the following operators:\n",
    "\n",
    "(i) ‘/’ & ‘//’\n",
    "\n",
    "(ii) ‘**’ & ‘^’\n",
    "\n",
    "Ans:\n",
    "\n",
    "'/' means Division, returns quotinet result always be type float\n",
    "\n",
    "‘//’ means Floor Division, returns quotinet reslut returns integer, rounded to next smallest whole number\n",
    "\n",
    "'**' means exponetiation returns a to the power b (raise to the power)\n",
    "\n",
    "'^'  means xor "
   ]
  },
  {
   "cell_type": "code",
   "execution_count": 19,
   "id": "7ca8a771",
   "metadata": {},
   "outputs": [
    {
     "name": "stdout",
     "output_type": "stream",
     "text": [
      "5.0\n",
      "5\n",
      "100\n",
      "8\n"
     ]
    }
   ],
   "source": [
    "a = 10\n",
    "b = 2\n",
    "print(a/b)\n",
    "print(a//b)\n",
    "print(a**b)\n",
    "print(a^b)"
   ]
  },
  {
   "cell_type": "markdown",
   "id": "34a89d7d",
   "metadata": {},
   "source": [
    "Q.3. List the logical operators.\n",
    "\n",
    "Ans:\n",
    "\n",
    "and : True if both operants are True\n",
    "\n",
    "or : True if either one of operants are True\n",
    "\n",
    "not : True if operant is False"
   ]
  },
  {
   "cell_type": "markdown",
   "id": "65408dc4",
   "metadata": {},
   "source": [
    "4. Explain right shift operator and left shift operator with examples.\n",
    "\n",
    "Ans:\n",
    "\n",
    "right shift operators: >> Shifts the bits of the number to the right and fills 0 on voids left( fills 1 in the case of a negative number) as a result. Similar effect as of dividing the number with some power of two.\n",
    "\n",
    "left shift operators: << Shifts the bits of the number to the left and fills 0 on voids right as a result. Similar effect as of multiplying the number with some power of two."
   ]
  },
  {
   "cell_type": "code",
   "execution_count": 48,
   "id": "52ebf05d",
   "metadata": {},
   "outputs": [
    {
     "name": "stdout",
     "output_type": "stream",
     "text": [
      "right shift operators: >>\n",
      "1\n",
      "left shift operators: << \n",
      "320\n"
     ]
    }
   ],
   "source": [
    "print(\"right shift operators: >>\")\n",
    "print(20 >> 4) # 20/ 2 = 10, 10/2 = 5, 5/2 = 2.5, 2.5/2 = 1.25\n",
    "\n",
    "print(\"left shift operators: << \")\n",
    "print(20 << 4) # 20*2 = 40, 40*2 = 80, 80*2 = 160, 160*2 = 320"
   ]
  },
  {
   "cell_type": "markdown",
   "id": "0f35f198",
   "metadata": {},
   "source": [
    "Q.5. Create a list containing int type data of length 15. Then write a code to check if 10 is\n",
    "present in the list or not."
   ]
  },
  {
   "cell_type": "code",
   "execution_count": 61,
   "id": "3c229144",
   "metadata": {},
   "outputs": [
    {
     "name": "stdout",
     "output_type": "stream",
     "text": [
      "10 is present\n"
     ]
    }
   ],
   "source": [
    "l = [20, 43, 12, 34, 22, 7, 90, 66, 10, 54, 67, 26, 83, 11, 49]\n",
    "\n",
    "n = 10\n",
    "for i in range(len(l)):\n",
    "    if l[i] == n:\n",
    "        print(f\"{n} is present\")\n",
    "        break\n",
    "else:\n",
    "    print(f\"{n} is not present\")"
   ]
  },
  {
   "cell_type": "code",
   "execution_count": null,
   "id": "884584dd",
   "metadata": {},
   "outputs": [],
   "source": []
  }
 ],
 "metadata": {
  "kernelspec": {
   "display_name": "Python 3 (ipykernel)",
   "language": "python",
   "name": "python3"
  },
  "language_info": {
   "codemirror_mode": {
    "name": "ipython",
    "version": 3
   },
   "file_extension": ".py",
   "mimetype": "text/x-python",
   "name": "python",
   "nbconvert_exporter": "python",
   "pygments_lexer": "ipython3",
   "version": "3.10.9"
  }
 },
 "nbformat": 4,
 "nbformat_minor": 5
}
