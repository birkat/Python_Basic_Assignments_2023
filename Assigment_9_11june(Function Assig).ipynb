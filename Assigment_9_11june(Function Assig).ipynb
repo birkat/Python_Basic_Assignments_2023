{
 "cells": [
  {
   "cell_type": "markdown",
   "id": "f41b7c8d",
   "metadata": {},
   "source": [
    "1. What is a lambda function in Python, and how does it differ from a regular function?\n",
    "\n",
    "Ans:\n",
    "\n",
    "Lambda function are simililar to user define functions but without name and return statement. They are commonly referred to as anonumous function. They can take any number of arguments but can have only one expression, expression that are usually a single line of a statement\n",
    "\n",
    "Lambda function is a single line code where as regular function is block of code. In lambda function we can write simple program where as in regular function we can write complex program."
   ]
  },
  {
   "cell_type": "code",
   "execution_count": 1,
   "id": "49f4c4e7",
   "metadata": {},
   "outputs": [
    {
     "name": "stdout",
     "output_type": "stream",
     "text": [
      "12\n"
     ]
    }
   ],
   "source": [
    "#Example of Lambda function\n",
    "a = lambda x, y : x * y\n",
    "print(a(3,4))"
   ]
  },
  {
   "cell_type": "code",
   "execution_count": 2,
   "id": "a686938c",
   "metadata": {},
   "outputs": [
    {
     "data": {
      "text/plain": [
       "'Odd'"
      ]
     },
     "execution_count": 2,
     "metadata": {},
     "output_type": "execute_result"
    }
   ],
   "source": [
    "#Example of regular function\n",
    "\n",
    "def add_even(n):\n",
    "        if n % 2 == 0:\n",
    "            return \"Even\"\n",
    "        else:\n",
    "            return \"Odd\"\n",
    "            \n",
    "add_even(5)"
   ]
  },
  {
   "cell_type": "markdown",
   "id": "0e9edb59",
   "metadata": {},
   "source": [
    "2. Can a lambda function in Python have multiple arguments? If yes, how can you define and use\n",
    "them?\n",
    "\n",
    "Ans:\n",
    "\n",
    "Yes, lambda function can have any number of arguments but can only have one expression."
   ]
  },
  {
   "cell_type": "code",
   "execution_count": 4,
   "id": "23fec2eb",
   "metadata": {},
   "outputs": [
    {
     "name": "stdout",
     "output_type": "stream",
     "text": [
      "24\n"
     ]
    }
   ],
   "source": [
    "#Example of Lambda function with multiply argument x, y, z and return the result\n",
    "a = lambda x, y, z : x * y * z\n",
    "print(a(3,4, 2))"
   ]
  },
  {
   "cell_type": "markdown",
   "id": "1b749727",
   "metadata": {},
   "source": [
    "3. How are lambda functions typically used in Python? Provide an example use case.\n",
    "\n",
    "Ans:\n",
    "\n",
    "They are generally used when a function is needed for a sort period of time, ofen to be used inside another function such as filter, map and reduce."
   ]
  },
  {
   "cell_type": "code",
   "execution_count": 7,
   "id": "76dfa912",
   "metadata": {},
   "outputs": [
    {
     "name": "stdout",
     "output_type": "stream",
     "text": [
      "[('Ashish', 75), ('Manish', 88), ('Tom', 98)]\n"
     ]
    }
   ],
   "source": [
    "# Example of Lambda function with sorted\n",
    "\n",
    "students = [('Tom', 98), ('Manish', 88), ('Ashish', 75)]\n",
    "sorted_stu = sorted(students, key = lambda x:x[0]) # order on alphabets\n",
    "print(sorted_stu)"
   ]
  },
  {
   "cell_type": "code",
   "execution_count": 1,
   "id": "9ab78a9e",
   "metadata": {},
   "outputs": [
    {
     "name": "stdout",
     "output_type": "stream",
     "text": [
      "[2, 4, 6, 8]\n"
     ]
    }
   ],
   "source": [
    "# Example of Lambda function with filter(), filtering out even number\n",
    "\n",
    "l = [1,2,3,4,5,6,7,8,9]\n",
    "\n",
    "filter_list = list(filter(lambda x:x % 2== 0, l))\n",
    "print(filter_list)"
   ]
  },
  {
   "cell_type": "markdown",
   "id": "4ab8bfef",
   "metadata": {},
   "source": [
    "4. What are the advantages and limitations of lambda functions compared to regular functions in\n",
    "Python?\n",
    "\n",
    "Ans:\n",
    "\n",
    "- The code is simple and clear\n",
    "- can pe passed immediately \n",
    "- only one line of code\n",
    "- can be included internally\n",
    "- Function name is not required\n",
    "- They don't need a docstring"
   ]
  },
  {
   "cell_type": "markdown",
   "id": "2b06a5ba",
   "metadata": {},
   "source": [
    "5. Are lambda functions in Python able to access variables defined outside of their own scope?\n",
    "Explain with an example.\n",
    "\n",
    "Ans:\n",
    "\n",
    "Lambda functions in Python able to access variables defined outside of their own scope as they have global scope."
   ]
  },
  {
   "cell_type": "code",
   "execution_count": 14,
   "id": "b7579c76",
   "metadata": {},
   "outputs": [
    {
     "name": "stdout",
     "output_type": "stream",
     "text": [
      "22\n"
     ]
    }
   ],
   "source": [
    "#Example lambda function using global scope\n",
    "x = 10\n",
    "y = 12\n",
    "\n",
    "lam_add = lambda x, y: x + y\n",
    "print(lam_add(x, y))"
   ]
  },
  {
   "cell_type": "code",
   "execution_count": 22,
   "id": "a6b36358",
   "metadata": {},
   "outputs": [
    {
     "name": "stdout",
     "output_type": "stream",
     "text": [
      "8\n"
     ]
    }
   ],
   "source": [
    "# 6. Write a lambda function to calculate the square of a given number.\n",
    "\n",
    "seq_lam = lambda a, b: a**b\n",
    "print(seq_lam(2, 3))"
   ]
  },
  {
   "cell_type": "code",
   "execution_count": 56,
   "id": "a9e45936",
   "metadata": {},
   "outputs": [
    {
     "name": "stdout",
     "output_type": "stream",
     "text": [
      "89\n"
     ]
    }
   ],
   "source": [
    "# 7. Create a lambda function to find the maximum value in a list of integers.\n",
    "\n",
    "from functools import reduce\n",
    "\n",
    "l1 = [23,45,12,4,89,78,21]\n",
    "\n",
    "max_num = reduce(lambda x, y : x if x > y else y, l1)\n",
    "print(max_num)"
   ]
  },
  {
   "cell_type": "code",
   "execution_count": 6,
   "id": "4f29cee3",
   "metadata": {},
   "outputs": [
    {
     "name": "stdout",
     "output_type": "stream",
     "text": [
      "[2, 4, 6, 8]\n"
     ]
    }
   ],
   "source": [
    "#8. Implement a lambda function to filter out all the even numbers from a list of integers.\n",
    "\n",
    "l2 = [1,2,3,4,5,6,7,8,9]\n",
    "\n",
    "eve_num = list(filter(lambda x:x%2==0, l2))\n",
    "print(eve_num)"
   ]
  },
  {
   "cell_type": "code",
   "execution_count": 10,
   "id": "70e7d7ba",
   "metadata": {},
   "outputs": [
    {
     "name": "stdout",
     "output_type": "stream",
     "text": [
      "[1, 3, 5, 7, 8, 9]\n"
     ]
    }
   ],
   "source": [
    "#9. Write a lambda function to sort a list of strings in ascending order based on the length of each\n",
    "#string.\n",
    "\n",
    "l3 = [3,5,1,7,8,9]\n",
    "sort_string = sorted(l3, key=lambda x:x)\n",
    "print(sort_string)"
   ]
  },
  {
   "cell_type": "code",
   "execution_count": 13,
   "id": "24ec9e59",
   "metadata": {},
   "outputs": [
    {
     "name": "stdout",
     "output_type": "stream",
     "text": [
      "[4, 5]\n"
     ]
    }
   ],
   "source": [
    "#10. Create a lambda function that takes two lists as input and returns a new list containing the\n",
    "#common elements between the two lists.\n",
    "\n",
    "common = lambda a, b: a.intersection(b)\n",
    "num1 = [1,2,3,4,5]\n",
    "num2 = [4,5,6,7,8,]\n",
    "result = common(set(num1), set(num2))\n",
    "print(list(result))"
   ]
  },
  {
   "cell_type": "code",
   "execution_count": 16,
   "id": "54e5503c",
   "metadata": {},
   "outputs": [
    {
     "data": {
      "text/plain": [
       "120"
      ]
     },
     "execution_count": 16,
     "metadata": {},
     "output_type": "execute_result"
    }
   ],
   "source": [
    "# 11. Write a recursive function to calculate the factorial of a given positive integer.\n",
    "\n",
    "def fact(n):\n",
    "    if n == 1:\n",
    "        return 1\n",
    "    else:\n",
    "        return n * (fact(n -1))\n",
    "\n",
    "fact(5)"
   ]
  },
  {
   "cell_type": "code",
   "execution_count": 19,
   "id": "a7cd20d6",
   "metadata": {},
   "outputs": [
    {
     "name": "stdout",
     "output_type": "stream",
     "text": [
      "Enter nth Fibonacci number: 10\n",
      "0 1 1 2 3 5 8 13 21 34 "
     ]
    }
   ],
   "source": [
    "# 12. Implement a recursive function to compute the nth Fibonacci number.\n",
    "\n",
    "def fibo(n):\n",
    "    if n == 1:\n",
    "        return 0\n",
    "    if n == 2:\n",
    "        return 1\n",
    "    return (fibo(n-1) + fibo(n-2))\n",
    "\n",
    "num = int(input(\"Enter nth Fibonacci number: \"))\n",
    "for i in range(1, num+1):\n",
    "    print(fibo(i), end = \" \")"
   ]
  },
  {
   "cell_type": "code",
   "execution_count": 2,
   "id": "c6565547",
   "metadata": {},
   "outputs": [
    {
     "name": "stdout",
     "output_type": "stream",
     "text": [
      "42\n",
      "22\n",
      "17\n",
      "2\n"
     ]
    }
   ],
   "source": [
    "# 13. Create a recursive function to find the sum of all the elements in a given list.\n",
    "\n",
    "l4 = [20,5,15,2]\n",
    "\n",
    "def sum_num(i):\n",
    "    if i >= len(l4):\n",
    "        return 0\n",
    "    else:\n",
    "        return l4[i] + sum_num(i+1)\n",
    "for i in range(0,len(l4)):\n",
    "    print(sum_num(i))"
   ]
  },
  {
   "cell_type": "code",
   "execution_count": 6,
   "id": "1f25df56",
   "metadata": {},
   "outputs": [
    {
     "name": "stdout",
     "output_type": "stream",
     "text": [
      "Enter string: eye\n",
      "True\n"
     ]
    }
   ],
   "source": [
    "# 14. Write a recursive function to determine whether a given string is a palindrome.\n",
    "\n",
    "def is_palindrome(p):\n",
    "    if len(p) <= 1:\n",
    "        return True\n",
    "    else:\n",
    "        if p[0] == p[-1]:\n",
    "            return is_palindrome(p[1:-1])\n",
    "\n",
    "p = input(\"Enter string: \")\n",
    "print(is_palindrome(p))"
   ]
  },
  {
   "cell_type": "code",
   "execution_count": 23,
   "id": "0be83d09",
   "metadata": {},
   "outputs": [
    {
     "name": "stdout",
     "output_type": "stream",
     "text": [
      "Enter number1: 36\n",
      "Enter number2: 60\n"
     ]
    },
    {
     "data": {
      "text/plain": [
       "12"
      ]
     },
     "execution_count": 23,
     "metadata": {},
     "output_type": "execute_result"
    }
   ],
   "source": [
    "#15. Implement a recursive function to find the greatest common divisor (GCD) of two positive integers.\n",
    "\n",
    "def gcd(p, q):\n",
    "    if q == 0:\n",
    "        return p\n",
    "    else:\n",
    "        return gcd(q, (p%q))\n",
    "\n",
    "p = int(input(\"Enter number1: \"))\n",
    "q = int(input(\"Enter number2: \"))\n",
    "\n",
    "gcd(p,q)"
   ]
  },
  {
   "cell_type": "code",
   "execution_count": null,
   "id": "c6ec22ba",
   "metadata": {},
   "outputs": [],
   "source": []
  }
 ],
 "metadata": {
  "kernelspec": {
   "display_name": "Python 3 (ipykernel)",
   "language": "python",
   "name": "python3"
  },
  "language_info": {
   "codemirror_mode": {
    "name": "ipython",
    "version": 3
   },
   "file_extension": ".py",
   "mimetype": "text/x-python",
   "name": "python",
   "nbconvert_exporter": "python",
   "pygments_lexer": "ipython3",
   "version": "3.10.9"
  }
 },
 "nbformat": 4,
 "nbformat_minor": 5
}
