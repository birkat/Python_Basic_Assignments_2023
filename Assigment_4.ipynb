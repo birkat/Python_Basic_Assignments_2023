{
 "cells": [
  {
   "cell_type": "markdown",
   "id": "c6d89f5b",
   "metadata": {},
   "source": [
    "1. What exactly is []?\n",
    "\n",
    "Ans: \n",
    "\n",
    "list with no items, empty list"
   ]
  },
  {
   "cell_type": "markdown",
   "id": "ceb5b42b",
   "metadata": {},
   "source": [
    "2. In a list of values stored in a variable called spam, how would you assign the value 'hello' as the\n",
    "third value? (Assume [2, 4, 6, 8, 10] are in spam.)\n",
    "\n",
    "Ans:\n",
    "\n",
    "spam[2] = 'hello'"
   ]
  },
  {
   "cell_type": "code",
   "execution_count": 3,
   "id": "6329ddbd",
   "metadata": {},
   "outputs": [
    {
     "name": "stdout",
     "output_type": "stream",
     "text": [
      "[2, 4, 6, 8, 10]\n",
      "[2, 4, 'hello', 8, 10]\n"
     ]
    }
   ],
   "source": [
    "spam = [2, 4, 6, 8, 10]\n",
    "print(spam)\n",
    "\n",
    "spam[2] = 'hello'\n",
    "print(spam)"
   ]
  },
  {
   "cell_type": "code",
   "execution_count": 7,
   "id": "bebc4e78",
   "metadata": {},
   "outputs": [],
   "source": [
    "spam = ['a', 'b', 'c', 'd']"
   ]
  },
  {
   "cell_type": "markdown",
   "id": "7c9136e5",
   "metadata": {},
   "source": [
    "3. What is the value of spam[int(int('3' * 2) / 11)]?\n",
    "\n",
    "Ans:\n",
    "\n",
    "spam[3]"
   ]
  },
  {
   "cell_type": "code",
   "execution_count": 8,
   "id": "7bd5eb65",
   "metadata": {},
   "outputs": [
    {
     "data": {
      "text/plain": [
       "'d'"
      ]
     },
     "execution_count": 8,
     "metadata": {},
     "output_type": "execute_result"
    }
   ],
   "source": [
    "spam[3]"
   ]
  },
  {
   "cell_type": "code",
   "execution_count": 9,
   "id": "302b3ae3",
   "metadata": {},
   "outputs": [
    {
     "data": {
      "text/plain": [
       "'d'"
      ]
     },
     "execution_count": 9,
     "metadata": {},
     "output_type": "execute_result"
    }
   ],
   "source": [
    "# 4.What is the value of spam[-1]?\n",
    "\n",
    "spam[-1]"
   ]
  },
  {
   "cell_type": "code",
   "execution_count": 10,
   "id": "fd6151ee",
   "metadata": {},
   "outputs": [
    {
     "data": {
      "text/plain": [
       "['a', 'b']"
      ]
     },
     "execution_count": 10,
     "metadata": {},
     "output_type": "execute_result"
    }
   ],
   "source": [
    "# 5. What is the value of spam[:2]?\n",
    "\n",
    "spam[:2]"
   ]
  },
  {
   "cell_type": "code",
   "execution_count": 18,
   "id": "8853e10d",
   "metadata": {},
   "outputs": [],
   "source": [
    "bacon = [3.14, 'cat', 11, 'cat', True]"
   ]
  },
  {
   "cell_type": "code",
   "execution_count": 19,
   "id": "e1075269",
   "metadata": {},
   "outputs": [
    {
     "data": {
      "text/plain": [
       "1"
      ]
     },
     "execution_count": 19,
     "metadata": {},
     "output_type": "execute_result"
    }
   ],
   "source": [
    "#6. What is the value of bacon.index('cat')?\n",
    "\n",
    "bacon.index('cat')"
   ]
  },
  {
   "cell_type": "code",
   "execution_count": 20,
   "id": "720a3185",
   "metadata": {},
   "outputs": [
    {
     "data": {
      "text/plain": [
       "[3.14, 'cat', 11, 'cat', True, 99]"
      ]
     },
     "execution_count": 20,
     "metadata": {},
     "output_type": "execute_result"
    }
   ],
   "source": [
    "#7. How does bacon.append(99) change the look of the list value in bacon?\n",
    "\n",
    "bacon.append(99)\n",
    "bacon"
   ]
  },
  {
   "cell_type": "code",
   "execution_count": 21,
   "id": "403b6fe1",
   "metadata": {},
   "outputs": [
    {
     "data": {
      "text/plain": [
       "[3.14, 11, 'cat', True, 99]"
      ]
     },
     "execution_count": 21,
     "metadata": {},
     "output_type": "execute_result"
    }
   ],
   "source": [
    "# 8. How does bacon.remove('cat') change the look of the list in bacon?\n",
    "\n",
    "bacon.remove('cat')\n",
    "bacon"
   ]
  },
  {
   "cell_type": "code",
   "execution_count": 29,
   "id": "7fc6fd7d",
   "metadata": {},
   "outputs": [
    {
     "name": "stdout",
     "output_type": "stream",
     "text": [
      "list concatination '+'\n",
      "[1, 2, 3, 4, 5, 6]\n",
      "list replication '*'\n",
      "[1, 2, 3, 1, 2, 3]\n"
     ]
    }
   ],
   "source": [
    "# 9. What are the list concatenation and list replication operators?\n",
    "\n",
    "# '+' operators for list concatenation\n",
    "a = [1,2,3] \n",
    "b = [4,5,6]\n",
    "\n",
    "c = a+b\n",
    "print(\"list concatination '+'\")\n",
    "print(c)\n",
    "\n",
    "# '*' operators for list replication\n",
    "print(\"list replication '*'\")\n",
    "print(a * 2)"
   ]
  },
  {
   "cell_type": "markdown",
   "id": "c0dc5cdb",
   "metadata": {},
   "source": [
    "10. What is difference between the list methods append() and insert()?\n",
    "\n",
    "append() add a element or values to last end of the list.\n",
    "\n",
    "insert() takes two arguments, first argument as index and second argument as element"
   ]
  },
  {
   "cell_type": "code",
   "execution_count": 35,
   "id": "9c14e664",
   "metadata": {},
   "outputs": [
    {
     "name": "stdout",
     "output_type": "stream",
     "text": [
      "[1, 2, 3, 4]\n",
      "[1, 2, 3, 4, 5]\n",
      "[1, 2, 7, 3, 4, 5]\n"
     ]
    }
   ],
   "source": [
    "#Example\n",
    "\n",
    "l = [1,2,3,4]\n",
    "print(l)\n",
    "l.append(5)\n",
    "print(l)\n",
    "l.insert(2, 7)\n",
    "print(l)"
   ]
  },
  {
   "cell_type": "code",
   "execution_count": 34,
   "id": "726ff034",
   "metadata": {},
   "outputs": [
    {
     "data": {
      "text/plain": [
       "[1, 2, 3, 8, 4, 5]"
      ]
     },
     "execution_count": 34,
     "metadata": {},
     "output_type": "execute_result"
    }
   ],
   "source": [
    "l"
   ]
  },
  {
   "cell_type": "markdown",
   "id": "7de96e1a",
   "metadata": {},
   "source": [
    "11. What are the two methods for removing items from a list?\n",
    "\n",
    "Ans: \n",
    "\n",
    "pop()\n",
    "\n",
    "remove()"
   ]
  },
  {
   "cell_type": "markdown",
   "id": "6e010d94",
   "metadata": {},
   "source": [
    "12. Describe how list values and string values are identical.\n",
    "\n",
    "Ans:\n",
    "\n",
    "Both list and string values have index, len() can be used, slicing can be done, 'in' and 'not' operators can be used"
   ]
  },
  {
   "cell_type": "markdown",
   "id": "561b57e8",
   "metadata": {},
   "source": [
    "13. What's the difference between tuples and lists?\n",
    "\n",
    "Ans:\n",
    "\n",
    "list:\n",
    "- list are mutable\n",
    "- list have more than ten inbuild functions\n",
    "- they can change, replace, added and removed\n",
    "- list uses square brackets '[]'\n",
    "\n",
    "tuples:\n",
    "\n",
    "- tuples are unmutable\n",
    "- tuples have only two inbuild functions\n",
    "- it have only index and count function\n",
    "- tuples uses parenthese '()'"
   ]
  },
  {
   "cell_type": "markdown",
   "id": "1c7e5765",
   "metadata": {},
   "source": [
    "14. How do you type a tuple value that only contains the integer 42?\n",
    "\n",
    "Ans:\n",
    "\n",
    "t = (42,)"
   ]
  },
  {
   "cell_type": "code",
   "execution_count": 45,
   "id": "b9415273",
   "metadata": {},
   "outputs": [],
   "source": [
    "t = (42,)"
   ]
  },
  {
   "cell_type": "code",
   "execution_count": 46,
   "id": "c2d8eaa1",
   "metadata": {},
   "outputs": [
    {
     "data": {
      "text/plain": [
       "tuple"
      ]
     },
     "execution_count": 46,
     "metadata": {},
     "output_type": "execute_result"
    }
   ],
   "source": [
    "type(t)"
   ]
  },
  {
   "cell_type": "markdown",
   "id": "e28a442b",
   "metadata": {},
   "source": [
    "15. How do you get a list value's tuple form? How do you get a tuple value's list form?\n",
    "\n",
    "Ans:\n",
    "\n",
    "By changing the datatype using list() and tuple()"
   ]
  },
  {
   "cell_type": "code",
   "execution_count": 47,
   "id": "05d4fcb9",
   "metadata": {},
   "outputs": [],
   "source": [
    "l1 = [2,3,5,8]\n",
    "t1 = tuple(l1)"
   ]
  },
  {
   "cell_type": "code",
   "execution_count": 48,
   "id": "df459536",
   "metadata": {},
   "outputs": [
    {
     "data": {
      "text/plain": [
       "tuple"
      ]
     },
     "execution_count": 48,
     "metadata": {},
     "output_type": "execute_result"
    }
   ],
   "source": [
    "type(t1)"
   ]
  },
  {
   "cell_type": "code",
   "execution_count": 49,
   "id": "127b2a2b",
   "metadata": {},
   "outputs": [],
   "source": [
    "t2 = (2,9,8,7)\n",
    "l2 = list(t2)"
   ]
  },
  {
   "cell_type": "code",
   "execution_count": 50,
   "id": "a11b575e",
   "metadata": {},
   "outputs": [
    {
     "data": {
      "text/plain": [
       "list"
      ]
     },
     "execution_count": 50,
     "metadata": {},
     "output_type": "execute_result"
    }
   ],
   "source": [
    "type(l2)"
   ]
  },
  {
   "cell_type": "markdown",
   "id": "6afee617",
   "metadata": {},
   "source": [
    "16. Variables that \"contain\" list values are not necessarily lists themselves. Instead, what do they\n",
    "contain?\n",
    "\n",
    "Ans:\n",
    "\n",
    "variales contains referance of list values. Example below"
   ]
  },
  {
   "cell_type": "code",
   "execution_count": 63,
   "id": "f5fefa76",
   "metadata": {},
   "outputs": [
    {
     "name": "stdout",
     "output_type": "stream",
     "text": [
      "[2, 5, 7]\n"
     ]
    }
   ],
   "source": [
    "spam = [2,5,7]\n",
    "print(spam)"
   ]
  },
  {
   "cell_type": "code",
   "execution_count": 64,
   "id": "31a2e9fe",
   "metadata": {},
   "outputs": [
    {
     "name": "stdout",
     "output_type": "stream",
     "text": [
      "[2, 5, 7]\n"
     ]
    }
   ],
   "source": [
    "bacon = spam\n",
    "print(bacon)"
   ]
  },
  {
   "cell_type": "code",
   "execution_count": 65,
   "id": "2858763e",
   "metadata": {},
   "outputs": [],
   "source": [
    "bacon.insert(0, 'sudh')"
   ]
  },
  {
   "cell_type": "code",
   "execution_count": 66,
   "id": "b9c17c2a",
   "metadata": {},
   "outputs": [
    {
     "name": "stdout",
     "output_type": "stream",
     "text": [
      "['sudh', 2, 5, 7]\n"
     ]
    }
   ],
   "source": [
    "print(spam)"
   ]
  },
  {
   "cell_type": "markdown",
   "id": "7840d245",
   "metadata": {},
   "source": [
    "17. How do you distinguish between copy.copy() and copy.deepcopy()?\n",
    "\n",
    "Ans:\n",
    "   \n",
    "In copy.copy(), we change the element of first variable in nested list then the change take place in second variable also.\n",
    "so no changes will be seen \n",
    "\n",
    "In copy.deepcopy(), we change the element of first variable in nested list then no chances will be apply to the second\n",
    "variable. it will store in diffrent location.\n",
    "\n",
    "Distinguish between copy.copy() and copy.deepcopy(), we can only see changes only in nested loop.\n",
    "\n",
    "See Example down Below"
   ]
  },
  {
   "cell_type": "code",
   "execution_count": 67,
   "id": "bc5e0c57",
   "metadata": {},
   "outputs": [],
   "source": [
    "#copy.copy()\n",
    "l3 = [[1,2,3],[4,5,6]]\n",
    "l4 = l3.copy()"
   ]
  },
  {
   "cell_type": "code",
   "execution_count": 68,
   "id": "a6eec836",
   "metadata": {},
   "outputs": [
    {
     "data": {
      "text/plain": [
       "4"
      ]
     },
     "execution_count": 68,
     "metadata": {},
     "output_type": "execute_result"
    }
   ],
   "source": [
    "l4[1][0]"
   ]
  },
  {
   "cell_type": "code",
   "execution_count": 69,
   "id": "2142e141",
   "metadata": {},
   "outputs": [],
   "source": [
    "l4[1][0] = 100"
   ]
  },
  {
   "cell_type": "code",
   "execution_count": 70,
   "id": "9bdc8a35",
   "metadata": {},
   "outputs": [
    {
     "data": {
      "text/plain": [
       "[[1, 2, 3], [100, 5, 6]]"
      ]
     },
     "execution_count": 70,
     "metadata": {},
     "output_type": "execute_result"
    }
   ],
   "source": [
    "l4"
   ]
  },
  {
   "cell_type": "code",
   "execution_count": 71,
   "id": "8cd30056",
   "metadata": {},
   "outputs": [
    {
     "data": {
      "text/plain": [
       "[[1, 2, 3], [100, 5, 6]]"
      ]
     },
     "execution_count": 71,
     "metadata": {},
     "output_type": "execute_result"
    }
   ],
   "source": [
    "l3 # here we changes in l4 but chamges take place in l3 also bcoz l3 is taking references of child location"
   ]
  },
  {
   "cell_type": "code",
   "execution_count": 74,
   "id": "746cdfdb",
   "metadata": {},
   "outputs": [],
   "source": [
    "#copy.deepcopy()\n",
    "import copy\n",
    "\n",
    "l5 = [[9,8,7], [8,7,6]]\n",
    "l6 = copy.deepcopy(l5)"
   ]
  },
  {
   "cell_type": "code",
   "execution_count": 75,
   "id": "cd198699",
   "metadata": {},
   "outputs": [
    {
     "data": {
      "text/plain": [
       "[[9, 8, 7], [8, 7, 6]]"
      ]
     },
     "execution_count": 75,
     "metadata": {},
     "output_type": "execute_result"
    }
   ],
   "source": [
    "l6"
   ]
  },
  {
   "cell_type": "code",
   "execution_count": 76,
   "id": "3bc59b31",
   "metadata": {},
   "outputs": [
    {
     "data": {
      "text/plain": [
       "8"
      ]
     },
     "execution_count": 76,
     "metadata": {},
     "output_type": "execute_result"
    }
   ],
   "source": [
    "l6[1][0]"
   ]
  },
  {
   "cell_type": "code",
   "execution_count": 77,
   "id": "8c3f12a3",
   "metadata": {},
   "outputs": [],
   "source": [
    "l6[1][0] = 200"
   ]
  },
  {
   "cell_type": "code",
   "execution_count": 78,
   "id": "e492a410",
   "metadata": {},
   "outputs": [
    {
     "data": {
      "text/plain": [
       "[[9, 8, 7], [200, 7, 6]]"
      ]
     },
     "execution_count": 78,
     "metadata": {},
     "output_type": "execute_result"
    }
   ],
   "source": [
    "l6"
   ]
  },
  {
   "cell_type": "code",
   "execution_count": 79,
   "id": "78cc0c86",
   "metadata": {},
   "outputs": [
    {
     "data": {
      "text/plain": [
       "[[9, 8, 7], [8, 7, 6]]"
      ]
     },
     "execution_count": 79,
     "metadata": {},
     "output_type": "execute_result"
    }
   ],
   "source": [
    "l5 # here we changes in l6 but no change in l5 boz l6 have diffrent location"
   ]
  },
  {
   "cell_type": "code",
   "execution_count": null,
   "id": "9cf9b040",
   "metadata": {},
   "outputs": [],
   "source": []
  }
 ],
 "metadata": {
  "kernelspec": {
   "display_name": "Python 3 (ipykernel)",
   "language": "python",
   "name": "python3"
  },
  "language_info": {
   "codemirror_mode": {
    "name": "ipython",
    "version": 3
   },
   "file_extension": ".py",
   "mimetype": "text/x-python",
   "name": "python",
   "nbconvert_exporter": "python",
   "pygments_lexer": "ipython3",
   "version": "3.10.9"
  }
 },
 "nbformat": 4,
 "nbformat_minor": 5
}
