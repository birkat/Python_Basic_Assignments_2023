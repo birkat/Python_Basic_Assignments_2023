{
 "cells": [
  {
   "cell_type": "markdown",
   "id": "46af77da",
   "metadata": {},
   "source": [
    "1. What is the role of the 'else' block in a try-except statement? Provide an example\n",
    "scenario where it would be useful.\n",
    "\n",
    "Ans:\n",
    "\n",
    "'else' block is executed when try block statement is True. If try block is False then except block will be executed."
   ]
  },
  {
   "cell_type": "code",
   "execution_count": 3,
   "id": "a6765de4",
   "metadata": {},
   "outputs": [
    {
     "name": "stdout",
     "output_type": "stream",
     "text": [
      "Sum = 8\n"
     ]
    }
   ],
   "source": [
    "#Example of else Block\n",
    "\n",
    "try:\n",
    "    def add(a,b):\n",
    "        return a+b\n",
    "except Exception as e:\n",
    "    print(e)\n",
    "else:\n",
    "    print(f\"Sum = {add(5,3)}\")"
   ]
  },
  {
   "cell_type": "markdown",
   "id": "6c105f30",
   "metadata": {},
   "source": [
    "2. Can a try-except block be nested inside another try-except block? Explain with an\n",
    "example."
   ]
  },
  {
   "cell_type": "code",
   "execution_count": 14,
   "id": "3720b75e",
   "metadata": {},
   "outputs": [
    {
     "name": "stdout",
     "output_type": "stream",
     "text": [
      "try-except block with nested inside another try-except block\n",
      "first try block sucess\n",
      "\n",
      "Program 2\n",
      "1\n",
      "2\n",
      "3\n",
      "4\n",
      "5\n",
      "second try block sucess with else\n"
     ]
    }
   ],
   "source": [
    "#Example of nested try-except block\n",
    "\n",
    "try: # first try block\n",
    "    f = open(\"test.txt\", \"r\") \n",
    "    print(f.read())\n",
    "    print(\"first try block sucess\")\n",
    "    try: # second try block will be executed after first try block is True\n",
    "        print()\n",
    "        print(\"Program 2\")\n",
    "        l = [1,2,3,4,5]\n",
    "        for i in l:\n",
    "            print(i)\n",
    "    except:\n",
    "        print(\"this is a handler for loop\")\n",
    "    else:\n",
    "        print(\"second try block sucess with else\")\n",
    "except Exception as e:\n",
    "    print(\"here we have use r instead of w: \", e)"
   ]
  },
  {
   "cell_type": "markdown",
   "id": "dab2703a",
   "metadata": {},
   "source": [
    "3. How can you create a custom exception class in Python? Provide an example that\n",
    "demonstrates its usage.\n",
    "\n",
    "Ans:\n",
    "The raise keyword is used to raise an exception. We can define what kind of error to raise, and what to print."
   ]
  },
  {
   "cell_type": "code",
   "execution_count": 18,
   "id": "ad6d8d6d",
   "metadata": {},
   "outputs": [
    {
     "name": "stdout",
     "output_type": "stream",
     "text": [
      "Enter number: 2\n",
      "Your number is 2\n"
     ]
    }
   ],
   "source": [
    "try:\n",
    "    n = int(input(\"Enter number: \"))\n",
    "    if n >= 20: # if n is greater then 2o then it will raise exception\n",
    "        raise Exception\n",
    "    else: # if it is less then 20 then it will print the value\n",
    "        print(f\"Your number is {n}\")\n",
    "except:\n",
    "    print(\"Greater than 20\")\n"
   ]
  },
  {
   "cell_type": "markdown",
   "id": "2d372d8a",
   "metadata": {},
   "source": [
    "4. What are some common exceptions that are built-in to Python?\n",
    "\n",
    "Ans:\n",
    "\n",
    "- ZeroDivisionError\n",
    "- ValueError\n",
    "- ImportError\n",
    "- IOError\n",
    "- IndexError\n",
    "- KeyError\n",
    "- TypeError\n",
    "- MemoryError\n",
    "- OverflowError etc"
   ]
  },
  {
   "cell_type": "markdown",
   "id": "18bf876e",
   "metadata": {},
   "source": [
    "5. What is logging in Python, and why is it important in software development?\n",
    "\n",
    "Ans:\n",
    "\n",
    "Logging used to store infromation of even happends in software use. It stores all the activity. When writing any complex python script, logging is essential for debugging sfotware as you develop it. without logging the source of problem may be extremely time consuming.\n",
    "\n",
    "It is important in software development because:\n",
    "\n",
    "- it keeps track of every events of the software\n",
    "- due to logging it is easy to find the problem\n",
    "- less time consuming for debugging\n",
    "- easy to get information"
   ]
  },
  {
   "cell_type": "markdown",
   "id": "bdf8688f",
   "metadata": {},
   "source": [
    "6. Explain the purpose of log levels in Python logging and provide examples of when\n",
    "each log level would be appropriate.\n",
    "\n",
    "Ans:\n",
    "\n",
    "The purpose of log levels in python logging are:\n",
    "Log level in increasing order:"
   ]
  },
  {
   "cell_type": "code",
   "execution_count": 2,
   "id": "7c9a1013",
   "metadata": {},
   "outputs": [
    {
     "name": "stderr",
     "output_type": "stream",
     "text": [
      "DEBUG:root:Full Name sudh + kumar\n"
     ]
    },
    {
     "data": {
      "text/plain": [
       "'sudhkumar'"
      ]
     },
     "execution_count": 2,
     "metadata": {},
     "output_type": "execute_result"
    }
   ],
   "source": [
    "# DEBUG: These are used to give Detailed information, typically of interest only when diagnosing problems.\n",
    "\n",
    "#Example of DEBUG Logging\n",
    "import logging\n",
    "\n",
    "logging.basicConfig(level = logging.DEBUG)\n",
    "\n",
    "def sting_join(fname, lname):\n",
    "    logging.debug(f\"Full Name {fname} + {lname}\")\n",
    "    return fname + lname\n",
    "\n",
    "sting_join(\"sudh\", \"kumar\")"
   ]
  },
  {
   "cell_type": "code",
   "execution_count": 3,
   "id": "a56285dd",
   "metadata": {},
   "outputs": [
    {
     "name": "stderr",
     "output_type": "stream",
     "text": [
      "INFO:root:Adding Two Number i.e 5 and 6\n"
     ]
    },
    {
     "data": {
      "text/plain": [
       "11"
      ]
     },
     "execution_count": 3,
     "metadata": {},
     "output_type": "execute_result"
    }
   ],
   "source": [
    "# Info: These are used to confirm that things are working as expected.\n",
    "\n",
    "#Example of INFO Logging\n",
    "\n",
    "import logging\n",
    "\n",
    "logging.basicConfig(level=logging.INFO)\n",
    "\n",
    "def add(n1, n2):\n",
    "    logging.info(f\"Adding Two Number i.e {n1} and {n2}\")\n",
    "    return n1+n2\n",
    "\n",
    "add(5,6)"
   ]
  },
  {
   "cell_type": "code",
   "execution_count": 4,
   "id": "7b95cb9b",
   "metadata": {},
   "outputs": [
    {
     "name": "stderr",
     "output_type": "stream",
     "text": [
      "WARNING:root:Your age is 12, You cannot vote\n"
     ]
    }
   ],
   "source": [
    "# Warning: These are used as an indication that something unexpected happened, or \n",
    "# is indicative of some problem in the near future.\n",
    "\n",
    "# Example of WARINING Logging\n",
    "\n",
    "import logging\n",
    "\n",
    "logging.basicConfig(level= logging.WARNING)\n",
    "\n",
    "def age_vote(age):\n",
    "    if age < 18:\n",
    "        logging.warning(f\"Your age is {age}, You cannot vote\")\n",
    "\n",
    "age_vote(12)"
   ]
  },
  {
   "cell_type": "code",
   "execution_count": 10,
   "id": "e325373b",
   "metadata": {},
   "outputs": [
    {
     "name": "stderr",
     "output_type": "stream",
     "text": [
      "ERROR:root:Enter String\n"
     ]
    }
   ],
   "source": [
    "# Error: This tells that due to a more serious problem, the software has not been able to perform some function\n",
    "\n",
    "import logging\n",
    "\n",
    "logging.basicConfig(level=logging.ERROR)\n",
    "\n",
    "def val_err(x1):\n",
    "    if type(x1) != str:\n",
    "        logging.error(\"Enter String\")\n",
    "    else:\n",
    "        return x1\n",
    "\n",
    "val_err(2323)"
   ]
  },
  {
   "cell_type": "code",
   "execution_count": 14,
   "id": "2063c188",
   "metadata": {},
   "outputs": [
    {
     "name": "stderr",
     "output_type": "stream",
     "text": [
      "CRITICAL:root:Your PASSWORD is WRONG, PLEASE correct it\n"
     ]
    }
   ],
   "source": [
    "# Critical: This tells serious error, indicating that the program itself may be unable to continue running.\n",
    "\n",
    "def password_check(pw):\n",
    "    if pw != (\"sudh@123\"):\n",
    "        logging.critical(\"Your PASSWORD is WRONG, PLEASE correct it\")\n",
    "    else:\n",
    "        return \"Successfully Entered\"\n",
    "    \n",
    "password_check(\"fkdsf\")"
   ]
  },
  {
   "cell_type": "markdown",
   "id": "d708c914",
   "metadata": {},
   "source": [
    "7. What are log formatters in Python logging, and how can you customise the log message format using formatters?\n",
    "\n",
    "Ans:\n",
    "\n",
    "A formattters is created to handle the log messages, in this message time, logging level, log message, name of module etc is printed."
   ]
  },
  {
   "cell_type": "code",
   "execution_count": 1,
   "id": "5f31b042",
   "metadata": {},
   "outputs": [],
   "source": [
    "# how can you customise the log message format using formatters?\n",
    "\n",
    "import logging\n",
    "\n",
    "logging.basicConfig(filename = \"file.log\", level = logging.DEBUG, format = '%(asctime)s %(levelname)s %(message)s')\n",
    "\n",
    "logging.info(\"this is my info log\")\n",
    "logging.warning(\"this is my warning\")\n",
    "logging.debug(\"this is my debug log\")\n",
    "logging.error(\"this is my error log\")"
   ]
  },
  {
   "cell_type": "code",
   "execution_count": 2,
   "id": "9efb16af",
   "metadata": {},
   "outputs": [
    {
     "data": {
      "text/plain": [
       "[' Assigment_5.ipynb',\n",
       " ' Assigment_7.ipynb',\n",
       " '.ipynb_checkpoints',\n",
       " 'Assigment_10_17th_june.ipynb',\n",
       " 'Assigment_11_18th June.ipynb',\n",
       " 'Assigment_2.ipynb',\n",
       " 'Assigment_3.ipynb',\n",
       " 'Assigment_4.ipynb',\n",
       " 'Assigment_6.ipynb',\n",
       " 'Assigment_8_10thjune.ipynb',\n",
       " 'Assigment_9_11june(Function Assig).ipynb',\n",
       " 'Assignment_1.ipynb',\n",
       " 'file.log',\n",
       " 'test.txt']"
      ]
     },
     "execution_count": 2,
     "metadata": {},
     "output_type": "execute_result"
    }
   ],
   "source": [
    "import os\n",
    "os.listdir()"
   ]
  },
  {
   "cell_type": "code",
   "execution_count": 4,
   "id": "b39eaec9",
   "metadata": {},
   "outputs": [],
   "source": [
    "# 8. How can you set up logging to capture log messages from multiple modules or classes in a Python application?\n",
    "\n",
    "import logging\n",
    "\n",
    "logging.basicConfig(filename=\"file1.log\", level=logging.DEBUG, format='%(asctime)s %(levelname)s %(message)s')\n",
    "\n",
    "def add_num(x, y):\n",
    "    logging.info(\"Adding two number\")\n",
    "    try:\n",
    "        add = x + y\n",
    "        logging.info(f\"Adding {x} + {y} = {add}\")\n",
    "    except Exception as e:\n",
    "        logging.error(\"Error occurs\", str(e))\n",
    "\n",
    "def arm_inter(n1, n2):\n",
    "    logging.info(\"Python Program to Find Armstrong Number in an Interval\")\n",
    "    try:\n",
    "        lst = []\n",
    "        for i in range(n1, n2+1):\n",
    "            add = 0\n",
    "            l = len(str(i))\n",
    "            num = i\n",
    "            while num > 0:\n",
    "                rem = num % 10\n",
    "                add = add + (rem**l)\n",
    "                num = num // 10\n",
    "            if i == add:\n",
    "                lst.append(i)\n",
    "        logging.info(f\"Armstrong Number in an Interval of {n1} and {n2} are:{lst}\")\n",
    "    except Exception as e:\n",
    "        logging.error(\"Error occurs\", str(e))\n",
    "\n",
    "def sum_natural(x):\n",
    "    logging.info(\"Python Program to find sum Natural Numbers\")\n",
    "    try:\n",
    "        if x < 0:\n",
    "            print(\"Enter Positive number\")\n",
    "        ad = 0\n",
    "        for i in range(1, x+1):\n",
    "            ad = ad + i\n",
    "        logging.info(f\"Sum of natural Number of {x} are: {ad}\")\n",
    "    except Exception as e:\n",
    "        logging.error(\"Error occurs\", str(e))\n",
    "\n",
    "\n",
    "add_num(3,4)\n",
    "arm_inter(100, 10000)\n",
    "sum_natural(100)\n"
   ]
  },
  {
   "cell_type": "markdown",
   "id": "d2d40419",
   "metadata": {},
   "source": [
    "9. What is the difference between the logging and print statements in Python? When should you use logging over print statements in a real-world application?\n",
    "\n",
    "Ans:\n",
    "\n",
    "- Logging is used for recording a events and errors during execution of program where as prints only displays the information to the console.\n",
    "- Logging is mainly used for production environment, print used for debugging.\n",
    "- Logging provides features like log level, time, filtering, in print no features."
   ]
  },
  {
   "cell_type": "code",
   "execution_count": 1,
   "id": "5d85033e",
   "metadata": {},
   "outputs": [
    {
     "name": "stderr",
     "output_type": "stream",
     "text": [
      "INFO:root:Hello python\n"
     ]
    },
    {
     "name": "stdout",
     "output_type": "stream",
     "text": [
      "Hello\n"
     ]
    }
   ],
   "source": [
    "# Example of logging and print\n",
    "\n",
    "import logging\n",
    "\n",
    "logging.basicConfig(level=logging.INFO)\n",
    "logging.info(\"Hello python\")\n",
    "\n",
    "print(\"Hello\")\n"
   ]
  },
  {
   "cell_type": "raw",
   "id": "912cd149",
   "metadata": {},
   "source": [
    "10. Write a Python program that logs a message to a file named \"app.log\" with the\n",
    "following requirements:\n",
    "● The log message should be \"Hello, World!\"\n",
    "● The log level should be set to \"INFO.\"\n",
    "● The log file should append new log entries without overwriting previous ones."
   ]
  },
  {
   "cell_type": "code",
   "execution_count": 3,
   "id": "f74b2ac2",
   "metadata": {},
   "outputs": [],
   "source": [
    "import logging\n",
    "\n",
    "logging.basicConfig(filename=\"app.log\", level=logging.INFO)\n",
    "logging.info(\"Hello, World!\") #log file will append new log entries without overwriting previous ones"
   ]
  },
  {
   "cell_type": "code",
   "execution_count": 3,
   "id": "deb51abe",
   "metadata": {},
   "outputs": [
    {
     "name": "stdout",
     "output_type": "stream",
     "text": [
      "Enter weight in KG: askldask\n"
     ]
    }
   ],
   "source": [
    "\"\"\"11. Create a Python program that logs an error message to the console and a file named \"errors.log\" if an exception \n",
    "occurs during the program's execution. The error message should include the exception type and a timestamp.\"\"\"\n",
    "\n",
    "import logging\n",
    "\n",
    "logging.basicConfig(filename=\"errors.log\", level=logging.DEBUG, format= '%(asctime)s %(levelname)s %(message)s')\n",
    "\n",
    "try:\n",
    "    logging.info(\"Program to calculate your Body Mass Index\")\n",
    "    weight = float(input(\"Enter weight in KG: \"))\n",
    "    height = float(input(\"Enter height in METER: \"))\n",
    "    logging.info(f\"weight:{weight} and height:{height}\")\n",
    "    \n",
    "    bmi = weight / (height**2)\n",
    "\n",
    "    if bmi <= 18.4:\n",
    "        logging.info(\"Your Body Mass Index: Underweight\")\n",
    "    elif bmi <= 24.9:\n",
    "        logging.info(\"Your Body Mass Index: Normal\")\n",
    "    elif bmi <= 39.9:\n",
    "        logging.info(\"Your Body Mass Index: OverWeight\")\n",
    "    elif bmi >= 40:\n",
    "        logging.info(\"Your Body Mass Index: Obese\")\n",
    "\n",
    "    logging.info(f\"Total Body Mass Index: {bmi}\")\n",
    "\n",
    "except Exception as e:\n",
    "    logging.error(\"Error Occurs\")\n",
    "    logging.exception(str(e))"
   ]
  },
  {
   "cell_type": "code",
   "execution_count": null,
   "id": "e2cd41f2",
   "metadata": {},
   "outputs": [],
   "source": [
    "\"\"\"#Output of Question 11\n",
    "\n",
    "2023-08-19 16:38:13,865 INFO Program to calculate your Body Mass Index\n",
    "2023-08-19 16:38:21,069 INFO 60.0 and 1.64\n",
    "2023-08-19 16:38:21,069 INFO Normal\n",
    "2023-08-19 16:38:21,070 INFO 22.308149910767405\n",
    "2023-08-19 16:41:26,066 INFO Program to calculate your Body Mass Index\n",
    "2023-08-19 16:41:32,274 INFO weight:67.0 and height:1.0\n",
    "2023-08-19 16:41:32,275 INFO Your Body Mass Index: Obese\n",
    "2023-08-19 16:41:32,275 INFO Total Body Mass Index: 67.0\n",
    "2023-08-19 16:42:09,463 INFO Program to calculate your Body Mass Index\n",
    "2023-08-19 16:42:13,762 ERROR Error Occurs\n",
    "2023-08-19 16:42:13,762 ERROR could not convert string to float: 'askldask'\n",
    "Traceback (most recent call last):\n",
    "  File \"C:\\Users\\sudip\\AppData\\Local\\Temp\\ipykernel_308\\3341537006.py\", line 10, in <module>\n",
    "    weight = float(input(\"Enter weight in KG: \"))\n",
    "ValueError: could not convert string to float: 'askldask'    \n",
    "    \n",
    "\"\"\""
   ]
  },
  {
   "cell_type": "code",
   "execution_count": null,
   "id": "23825f1a",
   "metadata": {},
   "outputs": [],
   "source": []
  }
 ],
 "metadata": {
  "kernelspec": {
   "display_name": "Python 3 (ipykernel)",
   "language": "python",
   "name": "python3"
  },
  "language_info": {
   "codemirror_mode": {
    "name": "ipython",
    "version": 3
   },
   "file_extension": ".py",
   "mimetype": "text/x-python",
   "name": "python",
   "nbconvert_exporter": "python",
   "pygments_lexer": "ipython3",
   "version": "3.10.9"
  }
 },
 "nbformat": 4,
 "nbformat_minor": 5
}
