{
 "cells": [
  {
   "cell_type": "markdown",
   "id": "7b801fd1",
   "metadata": {},
   "source": [
    "1. In Python, what is the difference between a built-in function and a user-defined function? Provide an\n",
    "example of each.\n",
    "\n",
    "Ans:\n",
    "\n",
    "A build-in function are define as the function whose functionality is predefine in python. Build-in fuction is ready to use and ready to compile, there are many build-in function present in python.\n",
    "\n",
    "Example: print(), len(), append(), insert(), del, extend(), index(), count(), keys(), values() etc\n",
    "\n",
    "User-define function define by ourself for a specific task. It is a block of code that can be reuseable, anytime anywhere in program. we define a function using a def keyword followed by function name, parenthese and colon(:). we can also specific argument.\n",
    "\n",
    "Example:"
   ]
  },
  {
   "cell_type": "code",
   "execution_count": 1,
   "id": "08fe0ec1",
   "metadata": {},
   "outputs": [
    {
     "name": "stdout",
     "output_type": "stream",
     "text": [
      "9\n"
     ]
    }
   ],
   "source": [
    "def add_num(num1, num2):\n",
    "    print(num1 + num2)\n",
    "    \n",
    "add_num(4, 5)"
   ]
  },
  {
   "cell_type": "markdown",
   "id": "e8c2b9bb",
   "metadata": {},
   "source": [
    "2. How can you pass arguments to a function in Python? Explain the difference between positional\n",
    "arguments and keyword arguments.\n",
    "\n",
    "Ans:\n",
    "\n",
    "Positional arguments means when we pass arguments, we have to pass in same order in defination function parameter. if we unorder the argument then we get unexpeted result. so we use positional arguments when we know the order of defination function arguments.\n",
    "\n",
    "Example:"
   ]
  },
  {
   "cell_type": "code",
   "execution_count": 2,
   "id": "da2b7388",
   "metadata": {},
   "outputs": [
    {
     "name": "stdout",
     "output_type": "stream",
     "text": [
      "My name is sudh\n",
      "My age is 23\n"
     ]
    }
   ],
   "source": [
    "def boy_detail(name, age):\n",
    "    print(\"My name is\", name)\n",
    "    print(\"My age is\", age)\n",
    "    \n",
    "boy_detail(\"sudh\", 23)"
   ]
  },
  {
   "cell_type": "markdown",
   "id": "36d3d7bd",
   "metadata": {},
   "source": [
    "Keyword arguments means here we dont have to know the order of arguments as like positional arguments, in keyword arguments we have to pass key and value with 'equal to' in it. Using keyword arguments we will get correct output because order of the argument doesnot matter.\n",
    "\n",
    "Example:"
   ]
  },
  {
   "cell_type": "code",
   "execution_count": 3,
   "id": "b9f07de6",
   "metadata": {},
   "outputs": [
    {
     "name": "stdout",
     "output_type": "stream",
     "text": [
      "My name is sudh\n",
      "My age is 23\n"
     ]
    }
   ],
   "source": [
    "def boy_detail(name, age):\n",
    "    print(\"My name is\", name)\n",
    "    print(\"My age is\", age)\n",
    "    \n",
    "boy_detail(age = 23, name = \"sudh\")"
   ]
  },
  {
   "cell_type": "markdown",
   "id": "82c1e917",
   "metadata": {},
   "source": [
    "3. What is the purpose of the return statement in a function? Can a function have multiple return\n",
    "statements? Explain with an example.\n",
    "\n",
    "Ans:\n",
    "\n",
    "The purpose of the return statement in a function is without return function, the function will not produce output which is usable outside of the function. Return statement in user-defined function, it enables the function to produce output and output reusability.\n",
    "\n",
    "Yes, a function have mutiple return statements. When any of them is executed, the function is terminated. we mustly used in contional statements like if/elif, if first statement get True then return will produce output and function will get terminated.\n",
    "\n",
    "Example:"
   ]
  },
  {
   "cell_type": "code",
   "execution_count": 5,
   "id": "3b631673",
   "metadata": {},
   "outputs": [
    {
     "data": {
      "text/plain": [
       "'even'"
      ]
     },
     "execution_count": 5,
     "metadata": {},
     "output_type": "execute_result"
    }
   ],
   "source": [
    "def even_odd(n):\n",
    "    if n % 2 == 0:\n",
    "        return \"even\"\n",
    "    else:\n",
    "        return \"odd\"\n",
    "    \n",
    "even_odd(4)"
   ]
  },
  {
   "cell_type": "markdown",
   "id": "17f43207",
   "metadata": {},
   "source": [
    "4. What are lambda functions in Python? How are they different from regular functions? Provide an\n",
    "example where a lambda function can be useful.\n",
    "\n",
    "Ans:\n",
    "\n",
    "Lambda function are simililar to user define functions but without name and return statement. They are commonly referred to as anonumous function. they can take any number of arguments but can have only one expression, expression that are usually a single line of a statement\n",
    "\n",
    "Lambda function is a single line code where as regular function is block of code. In lambda function we can write simple program where as in regular function we can write complex program"
   ]
  },
  {
   "cell_type": "code",
   "execution_count": 8,
   "id": "5994a237",
   "metadata": {},
   "outputs": [
    {
     "name": "stdout",
     "output_type": "stream",
     "text": [
      "12\n"
     ]
    }
   ],
   "source": [
    "#Example of Lambda function\n",
    "a = lambda x, y : x * y\n",
    "print(a(3,4))"
   ]
  },
  {
   "cell_type": "code",
   "execution_count": 13,
   "id": "69327639",
   "metadata": {},
   "outputs": [
    {
     "data": {
      "text/plain": [
       "'Odd'"
      ]
     },
     "execution_count": 13,
     "metadata": {},
     "output_type": "execute_result"
    }
   ],
   "source": [
    "#Example of regular function\n",
    "\n",
    "def add_even(n):\n",
    "        if n % 2 == 0:\n",
    "            return \"Even\"\n",
    "        else:\n",
    "            return \"Odd\"\n",
    "            \n",
    "add_even(5)"
   ]
  },
  {
   "cell_type": "markdown",
   "id": "02f78bc4",
   "metadata": {},
   "source": [
    "5. How does the concept of \"scope\" apply to functions in Python? Explain the difference between local\n",
    "scope and global scope."
   ]
  },
  {
   "cell_type": "code",
   "execution_count": 17,
   "id": "b837ad69",
   "metadata": {},
   "outputs": [
    {
     "data": {
      "text/plain": [
       "8"
      ]
     },
     "execution_count": 17,
     "metadata": {},
     "output_type": "execute_result"
    }
   ],
   "source": [
    "# Example of local scope and global scope\n",
    "\n",
    "a = 10 #global scope\n",
    "\n",
    "def add_num(x, y):\n",
    "    x = 5 #local scope\n",
    "    return x + y\n",
    "\n",
    "add_num(a, 3)"
   ]
  },
  {
   "cell_type": "markdown",
   "id": "e514099d",
   "metadata": {},
   "source": [
    "Local scope are one which is define inside the function, and global scope are those which are not define inside the function it is also called global variable.\n",
    "\n",
    "In above Example, 'a' variable outside the function is global variable, and 'x' inside the function is local variable as we can see during function calling 'a' argument is 10 and 'y' is 3 when it goes inside function tha variable of 'a' become x and variable of x changes into 5 and the result we get is 8"
   ]
  },
  {
   "cell_type": "markdown",
   "id": "978cf358",
   "metadata": {},
   "source": [
    "6. How can you use the \"return\" statement in a Python function to return multiple values?"
   ]
  },
  {
   "cell_type": "code",
   "execution_count": 19,
   "id": "f69959fb",
   "metadata": {},
   "outputs": [
    {
     "data": {
      "text/plain": [
       "{'Add': 10, 'Sub': 6, 'Mul': 16, 'div': 4.0}"
      ]
     },
     "execution_count": 19,
     "metadata": {},
     "output_type": "execute_result"
    }
   ],
   "source": [
    "def calculator(n1, n2):\n",
    "    add = n1 + n2\n",
    "    sub = n1 - n2\n",
    "    mul = n1 * n2\n",
    "    div = n1 / n2\n",
    "    \n",
    "    return {\n",
    "        \"Add\": add,\n",
    "        \"Sub\": sub,\n",
    "        \"Mul\": mul,\n",
    "        \"div\": div\n",
    "    }\n",
    "\n",
    "calculator(8, 2)"
   ]
  },
  {
   "cell_type": "markdown",
   "id": "bc148a3d",
   "metadata": {},
   "source": [
    "7. What is the difference between the \"pass by value\" and \"pass by reference\" concepts when it\n",
    "comes to function arguments in Python?\n",
    "\n",
    "Ans:\n",
    "\n",
    "In pass by value, when we pass argument by value then those arguments become or indepencence values original values.if we change the value inside the function then local variable will store value in diffrent location, it will not change value of outside the function. where as pass by references will pass the existing values, if we make changes inside the functio then it will affect outside the function.\n",
    "\n",
    "Example:"
   ]
  },
  {
   "cell_type": "code",
   "execution_count": 23,
   "id": "e9c8041e",
   "metadata": {},
   "outputs": [
    {
     "name": "stdout",
     "output_type": "stream",
     "text": [
      "x before calling 10\n",
      "This is main id 2724880318992\n",
      "This is original a 2724880318992\n",
      "This is new id of a 2724880318832\n",
      "Inside func a 5\n",
      "This is after calling id 2724880318992\n",
      "x after calling 10\n"
     ]
    }
   ],
   "source": [
    "# Pass by value\n",
    "\n",
    "def pass_by_value(a):\n",
    "    print(\"This is original a\", id(a)) # here memoery location same as outside the function\n",
    "    a = 5\n",
    "    print(\"This is new id of a\", id(a)) # here memory location changes\n",
    "    print(\"Inside func a\", a)\n",
    "\n",
    "x = 10\n",
    "print(\"x before calling\", x)\n",
    "print(\"This is main id\", id(x)) \n",
    "pass_by_value(x)\n",
    "print(\"This is after calling id\", id(x))\n",
    "print(\"x after calling\", x)"
   ]
  },
  {
   "cell_type": "code",
   "execution_count": 24,
   "id": "e3183aa9",
   "metadata": {},
   "outputs": [
    {
     "name": "stdout",
     "output_type": "stream",
     "text": [
      "c before calling [1, 2, 3, 4]\n",
      "This is main id 2724996513984\n",
      "This is original b 2724996513984\n",
      "This is new id of b 2724996513984\n",
      "Inside funct b [12, 2, 3, 4]\n",
      "This is after calling id 2724996513984\n",
      "c after calling [12, 2, 3, 4]\n"
     ]
    }
   ],
   "source": [
    "# pass by references\n",
    "\n",
    "def pass_by_references(b):\n",
    "    print(\"This is original b\", id(b))\n",
    "    b[0] = 12\n",
    "    print(\"This is new id of b\", id(b))\n",
    "    print(\"Inside funct b\", b)\n",
    "    \n",
    "c = [1,2,3,4]\n",
    "print(\"c before calling\", c)\n",
    "print(\"This is main id\", id(c))\n",
    "pass_by_references(c)\n",
    "print(\"This is after calling id\", id(c))\n",
    "print(\"c after calling\", c)\n",
    "\n",
    "# here element changes but address not change"
   ]
  },
  {
   "cell_type": "markdown",
   "id": "0093c4ba",
   "metadata": {},
   "source": [
    "8. Create a function that can intake integer or decimal value and do following operations:\n",
    "\n",
    "a. Logarithmic function (log x)\n",
    "\n",
    "b. Exponential function (exp(x))\n",
    "\n",
    "c. Power function with base 2 (2x)\n",
    "\n",
    "d. Square root"
   ]
  },
  {
   "cell_type": "code",
   "execution_count": 40,
   "id": "cb3ad371",
   "metadata": {},
   "outputs": [
    {
     "name": "stdout",
     "output_type": "stream",
     "text": [
      "Enter numbers: 5\n",
      "{'Logarithmic function': 1.61, 'Exponential function': 148.41, 'Power function base 2': 25.0, 'Square root': 2.24}\n"
     ]
    }
   ],
   "source": [
    "import math\n",
    "\n",
    "def operations_num(x, y):\n",
    "    log_num = round(math.log(x), 2)\n",
    "    exp_num = round(math.exp(x), 2)\n",
    "    power_fun = round(x**y, 2)\n",
    "    square_root = round(math.sqrt(x), 2)\n",
    "    \n",
    "    return {\n",
    "        \"Logarithmic function\" : log_num,\n",
    "        \"Exponential function\" : exp_num,\n",
    "        \"Power function base 2\": power_fun,\n",
    "        \"Square root\"          : square_root\n",
    "    }\n",
    "\n",
    "x = float(input(\"Enter numbers: \"))\n",
    "\n",
    "result = operations_num(x, y= 2)\n",
    "print(result)"
   ]
  },
  {
   "cell_type": "markdown",
   "id": "c3796e5a",
   "metadata": {},
   "source": [
    "9.Create a function that takes a full name as an argument and returns first name and last name."
   ]
  },
  {
   "cell_type": "code",
   "execution_count": 52,
   "id": "1a4107df",
   "metadata": {},
   "outputs": [
    {
     "name": "stdout",
     "output_type": "stream",
     "text": [
      "First name sudip\n",
      "Last name rauniyar\n"
     ]
    }
   ],
   "source": [
    "def full_name(name):\n",
    "    name = name.split(\" \")\n",
    "    return name\n",
    "\n",
    "result = full_name(\"sudip rauniyar\")\n",
    "print(\"First name\", result[0])\n",
    "print(\"Last name\", result[1])"
   ]
  },
  {
   "cell_type": "code",
   "execution_count": null,
   "id": "3c69fd70",
   "metadata": {},
   "outputs": [],
   "source": []
  }
 ],
 "metadata": {
  "kernelspec": {
   "display_name": "Python 3 (ipykernel)",
   "language": "python",
   "name": "python3"
  },
  "language_info": {
   "codemirror_mode": {
    "name": "ipython",
    "version": 3
   },
   "file_extension": ".py",
   "mimetype": "text/x-python",
   "name": "python",
   "nbconvert_exporter": "python",
   "pygments_lexer": "ipython3",
   "version": "3.10.9"
  }
 },
 "nbformat": 4,
 "nbformat_minor": 5
}
