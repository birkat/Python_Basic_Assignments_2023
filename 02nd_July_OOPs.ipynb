{
 "cells": [
  {
   "cell_type": "markdown",
   "id": "439406cd",
   "metadata": {},
   "source": [
    "\"\"\"1. Explain what inheritance is in object-oriented programming and why it is used.\"\"\"\n",
    "\n",
    "Ans:\n",
    "\n",
    "Inheritance is creating a parent-child realtionship between two classes where chid automatically get the properties and methods of the parents. It is used for reusability of code and establish relationship between two classes."
   ]
  },
  {
   "cell_type": "markdown",
   "id": "00168dab",
   "metadata": {},
   "source": [
    "\"\"\"2. Discuss the concept of single inheritance and multiple inheritance, highlighting their\n",
    "differences and advantages.\"\"\"\n",
    "\n",
    "Ans:\n",
    "\n",
    "- Single inheritances enables a derived class to inherit attributes and methods from a single parent class while multiple inheritances enables a derived class to inherit attributes and methods from more than one parent class.\n",
    "- In single inheritances, a subclass inherits from a single super class where as in multiple inheritances a sub class inherits from multiple super classes.\n",
    "- multiple inheritances is more complex than single multiple inheritance."
   ]
  },
  {
   "cell_type": "markdown",
   "id": "55aaa3ad",
   "metadata": {},
   "source": [
    "\"\"\"3. Explain the terms \"base class\" and \"derived class\" in the context of inheritance.\"\"\"\n",
    "\n",
    "Ans:\n",
    "\n",
    "The base class is called as parent class and the new class called as derived class or child class."
   ]
  },
  {
   "cell_type": "markdown",
   "id": "014a18ed",
   "metadata": {},
   "source": [
    "\"\"\"4. What is the significance of the \"protected\" access modifier in inheritance? How does\n",
    "it differ from \"private\" and \"public\" modifiers?\"\"\"\n",
    "\n",
    "Ans:\n",
    "\n",
    "The members declared as protected are accessible from outside the class but only in a class derived from it that is in the child or subclass. Data members of a class are declared protected by adding a single underscore '_' symbol before the data member of that class.\n",
    "\n",
    "Protected access modifier is differ from private in a manner of security, private is more secure than protected because it accessible from within the class and its data members are declared with double underscore '__' symbol.\n",
    "\n",
    "Protected access modifier is differ from public in a manner of security, protected is more secure than public because public are accessible from outside the class through an object of the class.\n",
    "\n",
    "Example of Public, Protected, Private"
   ]
  },
  {
   "cell_type": "code",
   "execution_count": 19,
   "id": "16e54f3d",
   "metadata": {},
   "outputs": [],
   "source": [
    "class Employee:\n",
    "    def __init__(self, name, salary, department):\n",
    "        self.name = name # Public access modifier\n",
    "        self._salary = salary # protected access modifier\n",
    "        self.__department = department #Private access modifier\n",
    "        \n",
    "class Manager(Employee):\n",
    "    def __init__(self, name, salary, department):\n",
    "        super().__init__(name, salary, department)\n",
    "        \n",
    "    def assign_task(self):\n",
    "        print(f\"Assignment to employee Name: {self.name} and {self._salary}\")"
   ]
  },
  {
   "cell_type": "code",
   "execution_count": 23,
   "id": "4c08fd28",
   "metadata": {},
   "outputs": [],
   "source": [
    "emp = Manager(\"suman\", 43000, \"HR\")"
   ]
  },
  {
   "cell_type": "code",
   "execution_count": 24,
   "id": "6b3b3e67",
   "metadata": {},
   "outputs": [
    {
     "name": "stdout",
     "output_type": "stream",
     "text": [
      "Assignment to employee Name: suman and 43000\n"
     ]
    }
   ],
   "source": [
    "emp.assign_task() # Public and Protected"
   ]
  },
  {
   "cell_type": "code",
   "execution_count": 25,
   "id": "06ad60f5",
   "metadata": {},
   "outputs": [
    {
     "data": {
      "text/plain": [
       "'HR'"
      ]
     },
     "execution_count": 25,
     "metadata": {},
     "output_type": "execute_result"
    }
   ],
   "source": [
    "emp1 = Employee(\"suman\", 43000, \"HR\")  \n",
    "emp1._Employee__department    # private"
   ]
  },
  {
   "cell_type": "markdown",
   "id": "b26c08f8",
   "metadata": {},
   "source": [
    "\"\"\"5. What is the purpose of the \"super\" keyword in inheritance? Provide an example.\"\"\"\n",
    "\n",
    "Ans:\n",
    "\n",
    "\"super\" keyword is used to refer the instance variable or arttibutes of parent class."
   ]
  },
  {
   "cell_type": "code",
   "execution_count": 26,
   "id": "218d61a2",
   "metadata": {},
   "outputs": [],
   "source": [
    "\"\"\"6. Create a base class called \"Vehicle\" with attributes like \"make\", \"model\", and \"year\".\n",
    "Then, create a derived class called \"Car\" that inherits from \"Vehicle\" and adds an\n",
    "attribute called \"fuel_type\". Implement appropriate methods in both classes.\"\"\"\n",
    "\n",
    "class Vehicle:\n",
    "    def __init__(self, make, model, year):\n",
    "        self.make = make\n",
    "        self.model = model\n",
    "        self.year = year\n",
    "        \n",
    "    def display(self):\n",
    "        print(f\"Make: {self.make}, Model: {self.model}, Year: {self.year}\")\n",
    "        \n",
    "class Car(Vehicle):\n",
    "    def __init__(self, make, model, year, fuel_type):\n",
    "        super().__init__(make, model, year)\n",
    "        self.fuel_type = fuel_type\n",
    "        \n",
    "    def car_info(self):\n",
    "        print(f\"Make: {self.make}, Model: {self.model}, Year: {self.year}, Fuel Type: {self.fuel_type}\")"
   ]
  },
  {
   "cell_type": "code",
   "execution_count": 27,
   "id": "b2aad186",
   "metadata": {},
   "outputs": [],
   "source": [
    "car = Car(\"BMW\", \"EV\", \"2023\", \"Electric\")"
   ]
  },
  {
   "cell_type": "code",
   "execution_count": 28,
   "id": "89bfda46",
   "metadata": {},
   "outputs": [
    {
     "name": "stdout",
     "output_type": "stream",
     "text": [
      "Make: BMW, Model: EV, Year: 2023, Fuel Type: Electric\n"
     ]
    }
   ],
   "source": [
    "car.car_info()"
   ]
  },
  {
   "cell_type": "code",
   "execution_count": 29,
   "id": "f57dd327",
   "metadata": {},
   "outputs": [
    {
     "name": "stdout",
     "output_type": "stream",
     "text": [
      "Make: BMW, Model: EV, Year: 2023\n"
     ]
    }
   ],
   "source": [
    "car.display()"
   ]
  },
  {
   "cell_type": "code",
   "execution_count": 35,
   "id": "e129b8ab",
   "metadata": {},
   "outputs": [],
   "source": [
    "\"\"\"7. Create a base class called \"Employee\" with attributes like \"name\" and \"salary.\"\n",
    "Derive two classes, \"Manager\" and \"Developer,\" from \"Employee.\" Add an additional\n",
    "attribute called \"department\" for the \"Manager\" class and \"programming_language\"\n",
    "for the \"Developer\" class.\"\"\"\n",
    "\n",
    "class Employee:\n",
    "    def __init__(self, name, salary):\n",
    "        self.name = name\n",
    "        self.salary = salary\n",
    "        \n",
    "class Manager(Employee):\n",
    "    def __init__(self, name, salary, department):\n",
    "        super().__init__(name, salary)\n",
    "        self.department = department\n",
    "        \n",
    "    def display(self):\n",
    "        print(f\"Name: {self.name}, Salary: {self.salary}, Department: {self.department}\")\n",
    "        \n",
    "class Developer(Employee):\n",
    "    def __init__(self, name, salary, programming_language):\n",
    "        super().__init__(name, salary)\n",
    "        self.programming_language = programming_language\n",
    "        \n",
    "    def display(self):\n",
    "        print(f\"Name: {self.name}, Salary: {self.salary}, Programming Language: {self.programming_language}\")\n",
    "        \n"
   ]
  },
  {
   "cell_type": "code",
   "execution_count": 38,
   "id": "a9a5504c",
   "metadata": {},
   "outputs": [],
   "source": [
    "manager = Manager(\"Krish\", \"99000000\", \"DataScience\")"
   ]
  },
  {
   "cell_type": "code",
   "execution_count": 39,
   "id": "973ffaaa",
   "metadata": {},
   "outputs": [
    {
     "name": "stdout",
     "output_type": "stream",
     "text": [
      "Name: Krish, Salary: 99000000, Department: DataScience\n"
     ]
    }
   ],
   "source": [
    "manager.display()"
   ]
  },
  {
   "cell_type": "code",
   "execution_count": 40,
   "id": "3ed7a634",
   "metadata": {},
   "outputs": [],
   "source": [
    "developer = Developer(\"Sudh\", \"99000000\", \"Python\")"
   ]
  },
  {
   "cell_type": "code",
   "execution_count": 41,
   "id": "d5c1bd33",
   "metadata": {},
   "outputs": [
    {
     "name": "stdout",
     "output_type": "stream",
     "text": [
      "Name: Sudh, Salary: 99000000, Programming Language: Python\n"
     ]
    }
   ],
   "source": [
    "developer.display()"
   ]
  },
  {
   "cell_type": "code",
   "execution_count": 78,
   "id": "1ea18e24",
   "metadata": {},
   "outputs": [],
   "source": [
    "\"\"\"8. Design a base class called \"Shape\" with attributes like \"colour\" and \"border_width.\"\n",
    "Create derived classes, \"Rectangle\" and \"Circle,\" that inherit from \"Shape\" and add\n",
    "specific attributes like \"length\" and \"width\" for the \"Rectangle\" class and \"radius\" for\n",
    "the \"Circle\" class.\"\"\"\n",
    "\n",
    "class Shape:\n",
    "    def __init__(self, colour, border_width):\n",
    "        self.colour = colour\n",
    "        self.border_width = border_width\n",
    "        \n",
    "    def display(self):\n",
    "        print(f\"Color: {self.colour} Border width: {self.border_width}\")\n",
    "        \n",
    "class Rectangle(Shape):\n",
    "    def __init__(self, colour, border_width, length, width):\n",
    "        super().__init__(colour, border_width)\n",
    "        self.length = length\n",
    "        self.width = width\n",
    "\n",
    "    def find_rectangle(self):\n",
    "        super().display()\n",
    "        print(f\"area of rectangle: {self.length * self.width}\")\n",
    "        \n",
    "class Circle(Shape):\n",
    "    def __init__(self, colour, border_width, radius):\n",
    "        super().__init__(colour, border_width)\n",
    "        self.radius = radius\n",
    "        \n",
    "    def find_circle(self):\n",
    "        super().display()\n",
    "        print(f\"Area of Circle: {round(2 * 3.1415 * (self.radius)**2, 2)}\")"
   ]
  },
  {
   "cell_type": "code",
   "execution_count": 79,
   "id": "b4c4a2ae",
   "metadata": {},
   "outputs": [],
   "source": [
    "rect = Rectangle(\"Red\", 23, 10, 2)"
   ]
  },
  {
   "cell_type": "code",
   "execution_count": 80,
   "id": "6c3ccaf6",
   "metadata": {},
   "outputs": [
    {
     "name": "stdout",
     "output_type": "stream",
     "text": [
      "Color: Red Border width: 23\n",
      "area of rectangle: 20\n"
     ]
    }
   ],
   "source": [
    "rect.find_rectangle()"
   ]
  },
  {
   "cell_type": "code",
   "execution_count": 81,
   "id": "9ac73b41",
   "metadata": {},
   "outputs": [],
   "source": [
    "circle = Circle(\"Blue\", 15, 5)"
   ]
  },
  {
   "cell_type": "code",
   "execution_count": 82,
   "id": "10cfdf03",
   "metadata": {},
   "outputs": [
    {
     "name": "stdout",
     "output_type": "stream",
     "text": [
      "Color: Blue Border width: 15\n",
      "Area of Circle: 157.08\n"
     ]
    }
   ],
   "source": [
    "circle.find_circle()"
   ]
  },
  {
   "cell_type": "code",
   "execution_count": 95,
   "id": "94c7cb77",
   "metadata": {},
   "outputs": [],
   "source": [
    "\"\"\"9. Create a base class called \"Device\" with attributes like \"brand\" and \"model.\" Derive\n",
    "two classes, \"Phone\" and \"Tablet,\" from \"Device.\" Add specific attributes like\n",
    "\"screen_size\" for the \"Phone\" class and \"battery_capacity\" for the \"Tablet\" class.\"\"\"\n",
    "\n",
    "class Device:\n",
    "    def __init__(self, brand, model):\n",
    "        self.brand = brand\n",
    "        self.model = model\n",
    "        \n",
    "    def display_info(self):\n",
    "        print(f\"Brand: {self.brand}, Model: {self.model}\")\n",
    "        \n",
    "class Phone(Device):\n",
    "    def __init__(self, brand, model, screen_size):\n",
    "        super().__init__(brand, model)\n",
    "        self.screen_size = screen_size\n",
    "        \n",
    "    def phone_info(self):\n",
    "        super().display_info()\n",
    "        print(f\"Screen_Size: {self.screen_size}\")\n",
    "        \n",
    "class Tablet(Device):\n",
    "    def __init__(self, brand, model, battery_capacity):\n",
    "        super().__init__(brand, model)\n",
    "        self.battery_capacity = battery_capacity\n",
    "        \n",
    "    def tablet_info(self):\n",
    "        super().display_info()\n",
    "        print(f\"Screen_Size: {self.battery_capacity}\")\n",
    "        "
   ]
  },
  {
   "cell_type": "code",
   "execution_count": 96,
   "id": "5c05c217",
   "metadata": {},
   "outputs": [],
   "source": [
    "phone = Phone(\"Samsung\", \"M51\", \"5'\")"
   ]
  },
  {
   "cell_type": "code",
   "execution_count": 97,
   "id": "128c543b",
   "metadata": {},
   "outputs": [
    {
     "name": "stdout",
     "output_type": "stream",
     "text": [
      "Brand: Samsung, Model: M51\n",
      "Screen_Size: 5'\n"
     ]
    }
   ],
   "source": [
    "phone.phone_info()"
   ]
  },
  {
   "cell_type": "code",
   "execution_count": 98,
   "id": "58fa2149",
   "metadata": {},
   "outputs": [],
   "source": [
    "tablet = Tablet(\"Apple\", \"Pro\", \"8'\")"
   ]
  },
  {
   "cell_type": "code",
   "execution_count": 99,
   "id": "34110d5e",
   "metadata": {},
   "outputs": [
    {
     "name": "stdout",
     "output_type": "stream",
     "text": [
      "Brand: Apple, Model: Pro\n",
      "Screen_Size: 8'\n"
     ]
    }
   ],
   "source": [
    "tablet.tablet_info()"
   ]
  },
  {
   "cell_type": "code",
   "execution_count": 104,
   "id": "0ce81675",
   "metadata": {},
   "outputs": [],
   "source": [
    "\"\"\"10. Create a base class called \"BankAccount\" with attributes like \"account_number\" and\n",
    "\"balance.\" Derive two classes, \"SavingsAccount\" and \"CheckingAccount,\" from\n",
    "\"BankAccount.\" Add specific methods like \"calculate_interest\" for the\n",
    "\"SavingsAccount\" class and \"deduct_fees\" for the \"CheckingAccount\" class.\"\"\"\n",
    "\n",
    "class BankAccount:\n",
    "    def __init__(self, account_number, balance):\n",
    "        self.account_number = account_number\n",
    "        self.balance = balance\n",
    "        \n",
    "class SavingAccount(BankAccount):\n",
    "    def __init__(self, account_number, balance):\n",
    "        super().__init__(account_number, balance)\n",
    "        \n",
    "    def calculate_interest(self, rate, time):\n",
    "        print(f\"Account Number: {self.account_number}\")\n",
    "        print(f\"Calculating interest on Principle amount {self.balance} for the {time} years at the rate of {rate}%\")\n",
    "        i = (self.balance * rate * time) / 100\n",
    "        self.balance += i\n",
    "        print(f\"Interest: {i}\")\n",
    "        print(f\"Total Balance: {self.balance}\")\n",
    "        \n",
    "    \n",
    "class CheckingAccount(BankAccount):\n",
    "    def __init__(self, account_number, balance):\n",
    "        super().__init__(account_number, balance)\n",
    "        \n",
    "    def deduct_fees(self):\n",
    "        print(f\"Account Number: {self.account_number}\")\n",
    "        print(f\"Your Balance: {self.balance}\")\n",
    "        print(\"Checking Account Fees: 50 \")\n",
    "        self.balance -= 50\n",
    "        print(f\"After deducting checking account fees, Your total balance is: {self.balance}\")"
   ]
  },
  {
   "cell_type": "code",
   "execution_count": 111,
   "id": "075878ef",
   "metadata": {},
   "outputs": [],
   "source": [
    "savin = SavingAccount(564321, 1200000)"
   ]
  },
  {
   "cell_type": "code",
   "execution_count": 112,
   "id": "2d057609",
   "metadata": {},
   "outputs": [
    {
     "name": "stdout",
     "output_type": "stream",
     "text": [
      "Account Number: 564321\n",
      "Calculating interest on Principle amount 1200000 for the 5 years at the rate of 7%\n",
      "Interest: 420000.0\n",
      "Total Balance: 1620000.0\n"
     ]
    }
   ],
   "source": [
    "savin.calculate_interest(7, 5)"
   ]
  },
  {
   "cell_type": "code",
   "execution_count": 109,
   "id": "c7698e62",
   "metadata": {},
   "outputs": [],
   "source": [
    "check = CheckingAccount(23987, 250400)"
   ]
  },
  {
   "cell_type": "code",
   "execution_count": 110,
   "id": "ad7b8c40",
   "metadata": {},
   "outputs": [
    {
     "name": "stdout",
     "output_type": "stream",
     "text": [
      "Account Number: 23987\n",
      "Your Balance: 250400\n",
      "Checking Account Fees: 50 \n",
      "After deducting checking account fees, Your total balance is: 250350\n"
     ]
    }
   ],
   "source": [
    "check.deduct_fees()"
   ]
  },
  {
   "cell_type": "code",
   "execution_count": null,
   "id": "6f77fbb5",
   "metadata": {},
   "outputs": [],
   "source": []
  }
 ],
 "metadata": {
  "kernelspec": {
   "display_name": "Python 3 (ipykernel)",
   "language": "python",
   "name": "python3"
  },
  "language_info": {
   "codemirror_mode": {
    "name": "ipython",
    "version": 3
   },
   "file_extension": ".py",
   "mimetype": "text/x-python",
   "name": "python",
   "nbconvert_exporter": "python",
   "pygments_lexer": "ipython3",
   "version": "3.10.9"
  }
 },
 "nbformat": 4,
 "nbformat_minor": 5
}
