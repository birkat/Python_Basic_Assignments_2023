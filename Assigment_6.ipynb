{
 "cells": [
  {
   "cell_type": "markdown",
   "id": "722e4f7a",
   "metadata": {},
   "source": [
    "#Q.1. What are keywords in python? Using the keyword library, print all the python keywords.\n",
    "\n",
    "Ans:\n",
    "\n",
    "- keywords are reserved words, it cannot used as ordinary words\n",
    "- it is case sensitive\n",
    "- it has 35 keywords\n",
    "- it is immutables\n",
    "- use as a syntax\n",
    "- Each keyword have special meaning like def use for function, for is used for loop, del is used for delete etc"
   ]
  },
  {
   "cell_type": "code",
   "execution_count": 9,
   "id": "b18d256d",
   "metadata": {},
   "outputs": [
    {
     "name": "stdout",
     "output_type": "stream",
     "text": [
      "['False', 'None', 'True', 'and', 'as', 'assert', 'async', 'await', 'break', 'class', 'continue', 'def', 'del', 'elif', 'else', 'except', 'finally', 'for', 'from', 'global', 'if', 'import', 'in', 'is', 'lambda', 'nonlocal', 'not', 'or', 'pass', 'raise', 'return', 'try', 'while', 'with', 'yield']\n"
     ]
    }
   ],
   "source": [
    "import keyword\n",
    "print(keyword.kwlist)"
   ]
  },
  {
   "cell_type": "markdown",
   "id": "4da795e2",
   "metadata": {},
   "source": [
    "Q.2. What are the rules to create variables in python?\n",
    "\n",
    "Ans:\n",
    "\n",
    "- we cannot use first letter as number\n",
    "- cannot use special character as first letter\n",
    "- cannot use reserved letters\n",
    "- no space "
   ]
  },
  {
   "cell_type": "markdown",
   "id": "d7fe705c",
   "metadata": {},
   "source": [
    "Q.3. What are the standards and conventions followed for the nomenclature of variables in\n",
    "python to improve code readability and maintainability?\n",
    "\n",
    "Ans:\n",
    "\n",
    "- it is a combitionation of leters lowercase or uppercase\n",
    "- they must start with letters but not with digit\n",
    "- they are case sensitive\n",
    "- it is recommendent to use sort name"
   ]
  },
  {
   "cell_type": "markdown",
   "id": "64ee9968",
   "metadata": {},
   "source": [
    "Q.4. What will happen if a keyword is used as a variable name?\n",
    "\n",
    "Ans:\n",
    "\n",
    "it will return invalid syntax"
   ]
  },
  {
   "cell_type": "markdown",
   "id": "3d88724c",
   "metadata": {},
   "source": [
    "Q.5. For what purpose def keyword is used?\n",
    "\n",
    "Ans:\n",
    "\n",
    "def is used for creating functions or for defining a function."
   ]
  },
  {
   "cell_type": "markdown",
   "id": "d536f5f8",
   "metadata": {},
   "source": [
    "Q.6. What is the operation of this special character ‘\\’?\n",
    "\n",
    "Ans:\n",
    "\n",
    "'\\' is a line continuation charater\n",
    "\n",
    "Example below:"
   ]
  },
  {
   "cell_type": "code",
   "execution_count": 13,
   "id": "39ecfd2e",
   "metadata": {},
   "outputs": [
    {
     "name": "stdout",
     "output_type": "stream",
     "text": [
      "13\n"
     ]
    }
   ],
   "source": [
    "a = 1 + 2 + 3 + \\\n",
    "    5 + 2\n",
    "print(a)"
   ]
  },
  {
   "cell_type": "markdown",
   "id": "02e8ab09",
   "metadata": {},
   "source": [
    "Q.7. Give an example of the following conditions:\n",
    "\n",
    "(i) Homogeneous list\n",
    "\n",
    "Ans:\n",
    "\n",
    "homo_list =[1,2,3,4,5,6]\n",
    "\n",
    "(ii) Heterogeneous set\n",
    "\n",
    "Ans:\n",
    "\n",
    "s = {1,\"sudh\", 2, 7j+4}\n",
    "\n",
    "(iii) Homogeneous tuple\n",
    "\n",
    "Ans:\n",
    "\n",
    "homo_tuple =(1,2,3,4,5,6)"
   ]
  },
  {
   "cell_type": "markdown",
   "id": "f16c5144",
   "metadata": {},
   "source": [
    "Q.8. Explain the mutable and immutable data types with proper explanation & examples.\n",
    "\n",
    "Ans:\n",
    "\n",
    "list : list are mutable datatypes, which elements can be change, add, remove, replace once list is created"
   ]
  },
  {
   "cell_type": "code",
   "execution_count": 17,
   "id": "a0252579",
   "metadata": {},
   "outputs": [
    {
     "name": "stdout",
     "output_type": "stream",
     "text": [
      "[1, 2, 3, 4, 5]\n",
      "[1, 2, 3, 4, 5, 6]\n",
      "[1, 2, 3, 4, 5]\n",
      "[9, 1, 2, 3, 4, 5]\n"
     ]
    }
   ],
   "source": [
    "#list Example\n",
    "\n",
    "l = [1,2,3,4,5]\n",
    "print(l)\n",
    "l.append(6)\n",
    "print(l)\n",
    "l.pop()\n",
    "print(l)\n",
    "l.insert(0,9)\n",
    "print(l)"
   ]
  },
  {
   "cell_type": "markdown",
   "id": "fc1b860d",
   "metadata": {},
   "source": [
    "Tuples: Tuples is immutable, which elements cannot be change or modified after they are created\n",
    "\n",
    "It has only two functions (count(), index())"
   ]
  },
  {
   "cell_type": "code",
   "execution_count": 23,
   "id": "ce95cea2",
   "metadata": {},
   "outputs": [
    {
     "name": "stdout",
     "output_type": "stream",
     "text": [
      "(1, 2, 3, 4, 5)\n",
      "1\n",
      "1\n"
     ]
    },
    {
     "ename": "AttributeError",
     "evalue": "'tuple' object has no attribute 'append'",
     "output_type": "error",
     "traceback": [
      "\u001b[1;31m---------------------------------------------------------------------------\u001b[0m",
      "\u001b[1;31mAttributeError\u001b[0m                            Traceback (most recent call last)",
      "Cell \u001b[1;32mIn[23], line 8\u001b[0m\n\u001b[0;32m      5\u001b[0m \u001b[38;5;28mprint\u001b[39m(t\u001b[38;5;241m.\u001b[39mcount(\u001b[38;5;241m2\u001b[39m))\n\u001b[0;32m      6\u001b[0m \u001b[38;5;28mprint\u001b[39m(t\u001b[38;5;241m.\u001b[39mindex(\u001b[38;5;241m2\u001b[39m))\n\u001b[1;32m----> 8\u001b[0m \u001b[43mt\u001b[49m\u001b[38;5;241;43m.\u001b[39;49m\u001b[43mappend\u001b[49m(\u001b[38;5;241m4\u001b[39m)\n",
      "\u001b[1;31mAttributeError\u001b[0m: 'tuple' object has no attribute 'append'"
     ]
    }
   ],
   "source": [
    "# Tuples Example\n",
    "\n",
    "t = (1,2,3,4,5)\n",
    "print(t)\n",
    "print(t.count(2))\n",
    "print(t.index(2))\n",
    "\n",
    "t.append(4) # cannot be modified, return errors"
   ]
  },
  {
   "cell_type": "markdown",
   "id": "68be2df3",
   "metadata": {},
   "source": [
    "Dictionary: are mutable, which means they can change element, modified them, add or remove them"
   ]
  },
  {
   "cell_type": "code",
   "execution_count": 30,
   "id": "531468da",
   "metadata": {},
   "outputs": [
    {
     "name": "stdout",
     "output_type": "stream",
     "text": [
      "{'key1': 'sudh', 'key2': [1, 2, 3, 4], 'key3': 45}\n",
      "{'key2': [1, 2, 3, 4], 'key3': 45}\n",
      "{'key2': [1, 2, 3, 4], 'key3': 45, 'key4': (34, 56)}\n"
     ]
    }
   ],
   "source": [
    "#Dictionary Example\n",
    "\n",
    "d = {\"key1\" : \"sudh\", \"key2\": [1,2,3,4], \"key3\": 45}\n",
    "print(d)\n",
    "d.pop(\"key1\")\n",
    "print(d)\n",
    "d[\"key4\"] = (34,56)\n",
    "print(d)"
   ]
  },
  {
   "cell_type": "markdown",
   "id": "b5478f9b",
   "metadata": {},
   "source": [
    "Sets: sets are mutable, elements can be added and removed post creation. Here elements cannot be altered bcoz they are\n",
    "unordered, unindex and unique(no duplicate values)"
   ]
  },
  {
   "cell_type": "code",
   "execution_count": 33,
   "id": "14b5e327",
   "metadata": {},
   "outputs": [
    {
     "name": "stdout",
     "output_type": "stream",
     "text": [
      "{2, 3, 5, 7}\n",
      "{3, 5, 7}\n"
     ]
    }
   ],
   "source": [
    "s = {2,3,5,7}\n",
    "print(s)\n",
    "s.pop()\n",
    "print(s)"
   ]
  },
  {
   "cell_type": "raw",
   "id": "2adb19cc",
   "metadata": {},
   "source": [
    "Q.9. Write a code to create the given structure using only for loop.\n",
    "\n",
    "*\n",
    "***\n",
    "*****\n",
    "*******\n",
    "*********"
   ]
  },
  {
   "cell_type": "code",
   "execution_count": 45,
   "id": "71bc5211",
   "metadata": {},
   "outputs": [
    {
     "name": "stdout",
     "output_type": "stream",
     "text": [
      "*\n",
      "***\n",
      "*****\n",
      "*******\n",
      "*********\n"
     ]
    }
   ],
   "source": [
    "for i in range(0, 10, 2):\n",
    "    for j in range(0, i+1):\n",
    "        print(\"*\", end = \"\")\n",
    "    print()"
   ]
  },
  {
   "cell_type": "code",
   "execution_count": 123,
   "id": "15bc2fb4",
   "metadata": {},
   "outputs": [
    {
     "name": "stdout",
     "output_type": "stream",
     "text": [
      "     \n",
      "    *\n",
      "   ***\n",
      "  *****\n",
      " *******\n",
      "*********\n"
     ]
    }
   ],
   "source": [
    "n = 6\n",
    "for i in range(0,n):\n",
    "    for j in range(0, n-i-1):\n",
    "        print(end = \" \")\n",
    "    k = 0\n",
    "    while k<i*2-1:\n",
    "        print(\"*\", end= \"\")\n",
    "        k += 1\n",
    "    print()"
   ]
  },
  {
   "cell_type": "markdown",
   "id": "934a4eed",
   "metadata": {},
   "source": [
    "Q.10. Write a code to create the given structure using while loop."
   ]
  },
  {
   "cell_type": "code",
   "execution_count": 133,
   "id": "18cdb14b",
   "metadata": {},
   "outputs": [
    {
     "name": "stdout",
     "output_type": "stream",
     "text": [
      "|||||||||\n",
      " |||||||\n",
      "  |||||\n",
      "   |||\n",
      "    |\n"
     ]
    }
   ],
   "source": [
    "n = 5\n",
    "i = 1\n",
    "while n > 0:\n",
    "    b = 1\n",
    "    while b < i:\n",
    "        print(end=\" \")\n",
    "        b = b+1\n",
    "    j = 1\n",
    "    while j <= (n*2)-1:\n",
    "        print(\"|\", end = \"\")\n",
    "        j = j+1\n",
    "    print()\n",
    "    n = n -1\n",
    "    i = i+1"
   ]
  },
  {
   "cell_type": "code",
   "execution_count": null,
   "id": "879b70a2",
   "metadata": {},
   "outputs": [],
   "source": []
  }
 ],
 "metadata": {
  "kernelspec": {
   "display_name": "Python 3 (ipykernel)",
   "language": "python",
   "name": "python3"
  },
  "language_info": {
   "codemirror_mode": {
    "name": "ipython",
    "version": 3
   },
   "file_extension": ".py",
   "mimetype": "text/x-python",
   "name": "python",
   "nbconvert_exporter": "python",
   "pygments_lexer": "ipython3",
   "version": "3.10.9"
  }
 },
 "nbformat": 4,
 "nbformat_minor": 5
}
