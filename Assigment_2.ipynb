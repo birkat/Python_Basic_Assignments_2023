{
 "cells": [
  {
   "cell_type": "code",
   "execution_count": 1,
   "id": "ffd8e92f",
   "metadata": {},
   "outputs": [
    {
     "name": "stdout",
     "output_type": "stream",
     "text": [
      "<class 'bool'>\n",
      "<class 'bool'>\n"
     ]
    }
   ],
   "source": [
    "\"\"\"1.What are the two values of the Boolean data type? How do you write them?\"\"\"\n",
    "\n",
    "#Ans:\n",
    "\n",
    "\"\"\"The Boolean data type:\n",
    "    True(1)\n",
    "    False(0)\"\"\"\n",
    "    \n",
    "a = True\n",
    "print(type(a))\n",
    "\n",
    "b = False\n",
    "print(type(b))"
   ]
  },
  {
   "cell_type": "code",
   "execution_count": null,
   "id": "1df8e41b",
   "metadata": {},
   "outputs": [],
   "source": [
    "\"\"\"2. What are the three different types of Boolean operators?\"\"\"\n",
    "\n",
    "#Ans:\n",
    "\n",
    "\"\"\"\n",
    "- AND\n",
    "- OR\n",
    "- NOT\n",
    "\"\"\""
   ]
  },
  {
   "cell_type": "code",
   "execution_count": 6,
   "id": "16eb6b8a",
   "metadata": {},
   "outputs": [
    {
     "name": "stdout",
     "output_type": "stream",
     "text": [
      "False\n",
      "True\n",
      "False\n"
     ]
    }
   ],
   "source": [
    "\"\"\"3. Make a list of each Boolean operator's truth tables (i.e. every possible combination of Boolean\n",
    "values for the operator and what it evaluate ).\"\"\"\n",
    "\n",
    "#Ans:\n",
    "\n",
    "\"\"\"\n",
    "AND Boolean operators\n",
    "\n",
    "True and True = True\n",
    "True and False = False\n",
    "False and True = False\n",
    "False and False = False\n",
    "\"\"\"\n",
    "######\n",
    "a = 45\n",
    "b= 67\n",
    "\n",
    "if a > 50 and b == 67:\n",
    "    print(True)\n",
    "else:\n",
    "    print(False)\n",
    "    \n",
    "\"\"\"\n",
    "OR Boolean operatotrs\n",
    "\n",
    "True or True = True\n",
    "True or False = True\n",
    "False or True = True\n",
    "False or False = False\n",
    "\"\"\"\n",
    "\n",
    "if a > 50 or b == 67:\n",
    "    print(True)\n",
    "else:\n",
    "    print(False)\n",
    "    \n",
    "\"\"\"\n",
    "not(True) = False\n",
    "not(False) = True\n",
    "\"\"\"\n",
    "\n",
    "if not(a == 45):\n",
    "    print(True)\n",
    "else:\n",
    "    print(False)"
   ]
  },
  {
   "cell_type": "code",
   "execution_count": null,
   "id": "dfb8f629",
   "metadata": {},
   "outputs": [],
   "source": [
    "\"\"\"4. What are the values of the following expressions?\"\"\"\n",
    "\n",
    "\"\"\"Ans: \n",
    "\n",
    "(5 > 4) and (3 == 5)\n",
    "False\n",
    "\n",
    "not (5 > 4)\n",
    "False\n",
    "\n",
    "(5 > 4) or (3 == 5)\n",
    "True\n",
    "\n",
    "not ((5 > 4) or (3 == 5))\n",
    "False\n",
    "\n",
    "(True and True) and (True == False)\n",
    "False\n",
    "\n",
    "(not False) or (not True)\n",
    "True\n",
    "\n",
    "\"\"\""
   ]
  },
  {
   "cell_type": "code",
   "execution_count": null,
   "id": "3f225712",
   "metadata": {},
   "outputs": [],
   "source": [
    "\"\"\"5. What are the six comparison operators?\"\"\"\n",
    "\n",
    "\"\"\"Ans:\n",
    "\n",
    "Less Than (<)\n",
    "Greater Than (>)\n",
    "Equal To (==)\n",
    "Less Than Equal To (<=)\n",
    "Greater Than Equal To (>=)\n",
    "Not Equal To (!=)\n",
    "\n",
    "\"\"\""
   ]
  },
  {
   "cell_type": "code",
   "execution_count": null,
   "id": "5ce120e7",
   "metadata": {},
   "outputs": [],
   "source": [
    "\"\"\"6. How do you tell the difference between the equal to and assignment operators?Describe a\n",
    "condition and when you would use one.\n",
    "\n",
    "Ans:\n",
    "-> Equal To operators used for comparing two values, if two values are same then its True if not then False.\n",
    "e.g\n",
    "a = 5\n",
    "if a == 5:\n",
    "    print(True)\n",
    "else:\n",
    "    print(False)\n",
    "In above case A variable is compare with 5 using Equal To (==) Sign using if condition So the result will be True\n",
    "Must of the case Equal To operators are used in if/else and for comparing two same value.\n",
    "\n",
    "-> Assignment operators are used for assiging the value to the variables, and variables store the value in memory.\n",
    "e.g\n",
    "a = 5\n",
    "b = a\n",
    "c = b\n",
    "print(c)\n",
    "In above case, 5 is assign to A variable using assignment operators (=) again A is assign to B Variable using (=) sign\n",
    "and again B is assign to C variable using (=) sign. so the fianl result will be 5\n",
    "Mustly it is used for storing value in memorynb v\n",
    "\"\"\""
   ]
  },
  {
   "cell_type": "code",
   "execution_count": 8,
   "id": "c84be508",
   "metadata": {},
   "outputs": [
    {
     "name": "stdout",
     "output_type": "stream",
     "text": [
      "ham\n",
      "spam\n",
      "spam\n"
     ]
    }
   ],
   "source": [
    "\"\"\"7. Identify the three blocks in this code:\"\"\"\n",
    "#Ans\n",
    "\n",
    "spam = 0\n",
    "\n",
    "if spam == 10:\n",
    "    print('eggs')\n",
    "if spam > 5:\n",
    "    print('bacon')\n",
    "else:\n",
    "    print('ham')\n",
    "\n",
    "print('spam')\n",
    "print('spam')\n"
   ]
  },
  {
   "cell_type": "code",
   "execution_count": 11,
   "id": "24a20472",
   "metadata": {},
   "outputs": [
    {
     "name": "stdout",
     "output_type": "stream",
     "text": [
      "Enter: 4\n",
      "Greetings\n"
     ]
    }
   ],
   "source": [
    "\"\"\"8. Write code that prints Hello if 1 is stored in spam, prints Howdy if 2 is stored in spam, and prints\n",
    "Greetings! if anything else is stored in spam.\"\"\"\n",
    "\n",
    "spam = int(input(\"Enter: \"))\n",
    "if spam == 1:\n",
    "    print(\"Hello\")\n",
    "elif spam == 2:\n",
    "    print(\"Howdy\")\n",
    "else:\n",
    "    print(\"Greetings\")"
   ]
  },
  {
   "cell_type": "code",
   "execution_count": null,
   "id": "cd2bae53",
   "metadata": {},
   "outputs": [],
   "source": [
    "\"\"\"9.If your programme is stuck in an endless loop, what keys you’ll press?\"\"\"\n",
    "\n",
    "\"ctrl + c\""
   ]
  },
  {
   "cell_type": "code",
   "execution_count": null,
   "id": "8ce671e5",
   "metadata": {},
   "outputs": [],
   "source": [
    "\"\"\"10. How can you tell the difference between break and continue?\"\"\"\n",
    "\n",
    "\"\"\"Ans:\n",
    "Break: Break statement is used to terminate the loop or program, when the spcific contidion is encounter.\n",
    "Example\n",
    "a = 1\n",
    "while a < 5:\n",
    "    print(a)\n",
    "    if a == 3:\n",
    "        break\n",
    "    a += 1\n",
    "\n",
    "Here in above program, if a is equal to 3 then program will be terminat\n",
    "\n",
    "Continue: continue statement is also used in loop control statement, continue statement is opposite of break satement,\n",
    "in case of break it terminate the program but in case if continue it will execute next iteration of the loop.\n",
    "Example:\n",
    "a = 1\n",
    "while a < 5:\n",
    "    print(a)\n",
    "    a += 1\n",
    "    if a == 3:\n",
    "        continue\n",
    "\n",
    "In above example as a  equal to 3, continue will focus on next iteration of the loop.\n",
    "\n",
    "\"\"\""
   ]
  },
  {
   "cell_type": "code",
   "execution_count": null,
   "id": "4d2cf0f4",
   "metadata": {},
   "outputs": [],
   "source": [
    "\"\"\"11. In a for loop, what is the difference between range(10), range(0, 10), and range(0, 10, 1)?\"\"\"\n",
    "\n",
    "\"\"\"Ans:\n",
    "range(10) range(stop will be 9)\n",
    "10 means it start from 0 and end at 10-1 means at 9, so output will be 0 1 2 3 4 5 6 7 8 9\n",
    "\n",
    "range(0, 10) range(start, stop)\n",
    "Here 0 is start position and 10 is stop position, so output will be 0 1 2 3 4 5 6 7 8 9\n",
    "\n",
    "range(0, 10, 1) range(start, stop, step)\n",
    "Here, it start from 0 and 1 will be added to 0 or 1 will be added to the last new number where it start from and number will be\n",
    "stop at 10-1 or at 9, so output will be 0 1 2 3 4 5 6 7 8 9 \n",
    "\"\"\""
   ]
  },
  {
   "cell_type": "code",
   "execution_count": 8,
   "id": "c907ca95",
   "metadata": {},
   "outputs": [
    {
     "name": "stdout",
     "output_type": "stream",
     "text": [
      "For Loop\n",
      "0\n",
      "1\n",
      "2\n",
      "3\n",
      "4\n",
      "5\n",
      "6\n",
      "7\n",
      "8\n",
      "9\n",
      "10\n",
      "While Loop\n",
      "1\n",
      "2\n",
      "3\n",
      "4\n",
      "5\n",
      "6\n",
      "7\n",
      "8\n",
      "9\n",
      "10\n"
     ]
    }
   ],
   "source": [
    "\"\"\"12. Write a short program that prints the numbers 1 to 10 using a for loop. Then write an equivalent\n",
    "program that prints the numbers 1 to 10 using a while loop.\"\"\"\n",
    "\n",
    "#for loop\n",
    "print(\"For Loop\")\n",
    "for i in range(11):\n",
    "    print(i)\n",
    "    \n",
    "#while loop\n",
    "print(\"While Loop\")\n",
    "a = 1\n",
    "while a <=10:\n",
    "    print(a)\n",
    "    a+=1"
   ]
  },
  {
   "cell_type": "code",
   "execution_count": null,
   "id": "3642f2c6",
   "metadata": {},
   "outputs": [],
   "source": [
    "\"\"\"13. If you had a function named bacon() inside a module named spam, how would you call it after\n",
    "importing spam?\"\"\"\n",
    "\n",
    "import spam \n",
    "spam.bacon()"
   ]
  }
 ],
 "metadata": {
  "kernelspec": {
   "display_name": "Python 3 (ipykernel)",
   "language": "python",
   "name": "python3"
  },
  "language_info": {
   "codemirror_mode": {
    "name": "ipython",
    "version": 3
   },
   "file_extension": ".py",
   "mimetype": "text/x-python",
   "name": "python",
   "nbconvert_exporter": "python",
   "pygments_lexer": "ipython3",
   "version": "3.10.9"
  }
 },
 "nbformat": 4,
 "nbformat_minor": 5
}
